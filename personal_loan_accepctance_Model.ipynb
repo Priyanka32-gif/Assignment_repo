{
 "cells": [
  {
   "cell_type": "code",
   "execution_count": 1,
   "id": "e1c3a4db-6660-4a36-a135-870be85736df",
   "metadata": {},
   "outputs": [],
   "source": [
    "#importing the needed libraties\n",
    "import numpy as np\n",
    "import pandas as pd"
   ]
  },
  {
   "cell_type": "code",
   "execution_count": 2,
   "id": "5f5a93bb-7dbe-44df-9c06-49c9511c8387",
   "metadata": {},
   "outputs": [],
   "source": [
    "import seaborn as sns\n",
    "import matplotlib.pyplot as plt"
   ]
  },
  {
   "cell_type": "code",
   "execution_count": 3,
   "id": "32590617-bdfc-427c-957f-c06f6a6d8dc4",
   "metadata": {},
   "outputs": [],
   "source": [
    "#reading the given bank data with pandas\n",
    "data = pd.read_excel('Bank_loan_data.xlsx')"
   ]
  },
  {
   "cell_type": "code",
   "execution_count": 4,
   "id": "8b9695b5-757a-4e63-9f0c-615bff5f1910",
   "metadata": {},
   "outputs": [
    {
     "data": {
      "text/html": [
       "<div>\n",
       "<style scoped>\n",
       "    .dataframe tbody tr th:only-of-type {\n",
       "        vertical-align: middle;\n",
       "    }\n",
       "\n",
       "    .dataframe tbody tr th {\n",
       "        vertical-align: top;\n",
       "    }\n",
       "\n",
       "    .dataframe thead th {\n",
       "        text-align: right;\n",
       "    }\n",
       "</style>\n",
       "<table border=\"1\" class=\"dataframe\">\n",
       "  <thead>\n",
       "    <tr style=\"text-align: right;\">\n",
       "      <th></th>\n",
       "      <th>ID</th>\n",
       "      <th>Age</th>\n",
       "      <th>Gender</th>\n",
       "      <th>Experience</th>\n",
       "      <th>Income</th>\n",
       "      <th>ZIP Code</th>\n",
       "      <th>Family</th>\n",
       "      <th>CCAvg</th>\n",
       "      <th>Education</th>\n",
       "      <th>Mortgage</th>\n",
       "      <th>Home Ownership</th>\n",
       "      <th>Personal Loan</th>\n",
       "      <th>Securities Account</th>\n",
       "      <th>CD Account</th>\n",
       "      <th>Online</th>\n",
       "      <th>CreditCard</th>\n",
       "    </tr>\n",
       "  </thead>\n",
       "  <tbody>\n",
       "    <tr>\n",
       "      <th>0</th>\n",
       "      <td>1</td>\n",
       "      <td>25</td>\n",
       "      <td>M</td>\n",
       "      <td>1</td>\n",
       "      <td>49.0</td>\n",
       "      <td>91107</td>\n",
       "      <td>4</td>\n",
       "      <td>1.6</td>\n",
       "      <td>1</td>\n",
       "      <td>0</td>\n",
       "      <td>Home Owner</td>\n",
       "      <td>0</td>\n",
       "      <td>1</td>\n",
       "      <td>0</td>\n",
       "      <td>0.0</td>\n",
       "      <td>0</td>\n",
       "    </tr>\n",
       "    <tr>\n",
       "      <th>1</th>\n",
       "      <td>2</td>\n",
       "      <td>45</td>\n",
       "      <td>M</td>\n",
       "      <td>19</td>\n",
       "      <td>34.0</td>\n",
       "      <td>90089</td>\n",
       "      <td>3</td>\n",
       "      <td>1.5</td>\n",
       "      <td>1</td>\n",
       "      <td>0</td>\n",
       "      <td>Rent</td>\n",
       "      <td>0</td>\n",
       "      <td>1</td>\n",
       "      <td>0</td>\n",
       "      <td>0.0</td>\n",
       "      <td>0</td>\n",
       "    </tr>\n",
       "    <tr>\n",
       "      <th>2</th>\n",
       "      <td>3</td>\n",
       "      <td>39</td>\n",
       "      <td>M</td>\n",
       "      <td>15</td>\n",
       "      <td>11.0</td>\n",
       "      <td>94720</td>\n",
       "      <td>1</td>\n",
       "      <td>1.0</td>\n",
       "      <td>1</td>\n",
       "      <td>0</td>\n",
       "      <td>Rent</td>\n",
       "      <td>0</td>\n",
       "      <td>0</td>\n",
       "      <td>0</td>\n",
       "      <td>0.0</td>\n",
       "      <td>0</td>\n",
       "    </tr>\n",
       "    <tr>\n",
       "      <th>3</th>\n",
       "      <td>4</td>\n",
       "      <td>35</td>\n",
       "      <td>M</td>\n",
       "      <td>9</td>\n",
       "      <td>100.0</td>\n",
       "      <td>94112</td>\n",
       "      <td>1</td>\n",
       "      <td>2.7</td>\n",
       "      <td>2</td>\n",
       "      <td>0</td>\n",
       "      <td>Rent</td>\n",
       "      <td>0</td>\n",
       "      <td>0</td>\n",
       "      <td>0</td>\n",
       "      <td>0.0</td>\n",
       "      <td>0</td>\n",
       "    </tr>\n",
       "    <tr>\n",
       "      <th>4</th>\n",
       "      <td>5</td>\n",
       "      <td>35</td>\n",
       "      <td>M</td>\n",
       "      <td>8</td>\n",
       "      <td>45.0</td>\n",
       "      <td>91330</td>\n",
       "      <td>4</td>\n",
       "      <td>1.0</td>\n",
       "      <td>2</td>\n",
       "      <td>0</td>\n",
       "      <td>Rent</td>\n",
       "      <td>0</td>\n",
       "      <td>0</td>\n",
       "      <td>0</td>\n",
       "      <td>0.0</td>\n",
       "      <td>1</td>\n",
       "    </tr>\n",
       "  </tbody>\n",
       "</table>\n",
       "</div>"
      ],
      "text/plain": [
       "   ID  Age Gender  Experience  Income  ZIP Code  Family  CCAvg  Education  \\\n",
       "0   1   25      M           1    49.0     91107       4    1.6          1   \n",
       "1   2   45      M          19    34.0     90089       3    1.5          1   \n",
       "2   3   39      M          15    11.0     94720       1    1.0          1   \n",
       "3   4   35      M           9   100.0     94112       1    2.7          2   \n",
       "4   5   35      M           8    45.0     91330       4    1.0          2   \n",
       "\n",
       "   Mortgage Home Ownership Personal Loan  Securities Account  CD Account  \\\n",
       "0         0     Home Owner             0                   1           0   \n",
       "1         0           Rent             0                   1           0   \n",
       "2         0           Rent             0                   0           0   \n",
       "3         0           Rent             0                   0           0   \n",
       "4         0           Rent             0                   0           0   \n",
       "\n",
       "   Online  CreditCard  \n",
       "0     0.0           0  \n",
       "1     0.0           0  \n",
       "2     0.0           0  \n",
       "3     0.0           0  \n",
       "4     0.0           1  "
      ]
     },
     "execution_count": 4,
     "metadata": {},
     "output_type": "execute_result"
    }
   ],
   "source": [
    "#head of the data\n",
    "data.head()"
   ]
  },
  {
   "cell_type": "code",
   "execution_count": 5,
   "id": "03581599-2003-4255-8233-c61b05f6a580",
   "metadata": {},
   "outputs": [],
   "source": [
    "# dictionary of a data columns with its provided desctioptions\n",
    "data_description = {'ID': 'ID of the customer','Age': 'Age of the customer','Gender':' M for Male, F for Female and O for Others',\n",
    "                    'Experience': 'Amount of work experience in years', 'Income': 'Amount of annual income (in thousands)','Home Ownership': 'Home Owner, Rent and Home Mortgage.',\n",
    "                    'Zipcode':'Postal code in which the client lives','Family': 'Number of family members','CCAvg': 'Average monthly spending with the credit card (in thousands)',\n",
    "                'Education': \"Education level (1: bachelor's degree, 2: master's degree, 3:advanced/professional degree)\", 'Securities Account': 'Does the customer have a securities account with the bank?',\n",
    "                    'Online': 'Does the customer use the internet banking facilities?','CreditCard': 'Does the customer use a credit card issued by the bank?', 'Personal Loan': 'Did this customer accept the personal loan offered in the last campaign?'\n",
    "                   }"
   ]
  },
  {
   "cell_type": "code",
   "execution_count": 6,
   "id": "15f3bd9d-f6b9-4d7a-a471-831bbe49dbd1",
   "metadata": {},
   "outputs": [],
   "source": [
    "#converting the data dictionary into list and into dataframe with the index column name \n",
    "description_df = pd.DataFrame(list(data_description.items()), columns=['Columns', 'Description'])\n",
    "description_df.set_index('Columns',inplace=True)"
   ]
  },
  {
   "cell_type": "code",
   "execution_count": 7,
   "id": "6d81e3ef-58d8-451c-af15-82181035aa74",
   "metadata": {},
   "outputs": [
    {
     "data": {
      "text/html": [
       "<div>\n",
       "<style scoped>\n",
       "    .dataframe tbody tr th:only-of-type {\n",
       "        vertical-align: middle;\n",
       "    }\n",
       "\n",
       "    .dataframe tbody tr th {\n",
       "        vertical-align: top;\n",
       "    }\n",
       "\n",
       "    .dataframe thead th {\n",
       "        text-align: right;\n",
       "    }\n",
       "</style>\n",
       "<table border=\"1\" class=\"dataframe\">\n",
       "  <thead>\n",
       "    <tr style=\"text-align: right;\">\n",
       "      <th></th>\n",
       "      <th>Description</th>\n",
       "    </tr>\n",
       "    <tr>\n",
       "      <th>Columns</th>\n",
       "      <th></th>\n",
       "    </tr>\n",
       "  </thead>\n",
       "  <tbody>\n",
       "    <tr>\n",
       "      <th>ID</th>\n",
       "      <td>ID of the customer</td>\n",
       "    </tr>\n",
       "    <tr>\n",
       "      <th>Age</th>\n",
       "      <td>Age of the customer</td>\n",
       "    </tr>\n",
       "    <tr>\n",
       "      <th>Gender</th>\n",
       "      <td>M for Male, F for Female and O for Others</td>\n",
       "    </tr>\n",
       "    <tr>\n",
       "      <th>Experience</th>\n",
       "      <td>Amount of work experience in years</td>\n",
       "    </tr>\n",
       "    <tr>\n",
       "      <th>Income</th>\n",
       "      <td>Amount of annual income (in thousands)</td>\n",
       "    </tr>\n",
       "    <tr>\n",
       "      <th>Home Ownership</th>\n",
       "      <td>Home Owner, Rent and Home Mortgage.</td>\n",
       "    </tr>\n",
       "    <tr>\n",
       "      <th>Zipcode</th>\n",
       "      <td>Postal code in which the client lives</td>\n",
       "    </tr>\n",
       "    <tr>\n",
       "      <th>Family</th>\n",
       "      <td>Number of family members</td>\n",
       "    </tr>\n",
       "    <tr>\n",
       "      <th>CCAvg</th>\n",
       "      <td>Average monthly spending with the credit card ...</td>\n",
       "    </tr>\n",
       "    <tr>\n",
       "      <th>Education</th>\n",
       "      <td>Education level (1: bachelor's degree, 2: mast...</td>\n",
       "    </tr>\n",
       "    <tr>\n",
       "      <th>Securities Account</th>\n",
       "      <td>Does the customer have a securities account wi...</td>\n",
       "    </tr>\n",
       "    <tr>\n",
       "      <th>Online</th>\n",
       "      <td>Does the customer use the internet banking fac...</td>\n",
       "    </tr>\n",
       "    <tr>\n",
       "      <th>CreditCard</th>\n",
       "      <td>Does the customer use a credit card issued by ...</td>\n",
       "    </tr>\n",
       "    <tr>\n",
       "      <th>Personal Loan</th>\n",
       "      <td>Did this customer accept the personal loan off...</td>\n",
       "    </tr>\n",
       "  </tbody>\n",
       "</table>\n",
       "</div>"
      ],
      "text/plain": [
       "                                                          Description\n",
       "Columns                                                              \n",
       "ID                                                 ID of the customer\n",
       "Age                                               Age of the customer\n",
       "Gender                      M for Male, F for Female and O for Others\n",
       "Experience                         Amount of work experience in years\n",
       "Income                         Amount of annual income (in thousands)\n",
       "Home Ownership                    Home Owner, Rent and Home Mortgage.\n",
       "Zipcode                         Postal code in which the client lives\n",
       "Family                                       Number of family members\n",
       "CCAvg               Average monthly spending with the credit card ...\n",
       "Education           Education level (1: bachelor's degree, 2: mast...\n",
       "Securities Account  Does the customer have a securities account wi...\n",
       "Online              Does the customer use the internet banking fac...\n",
       "CreditCard          Does the customer use a credit card issued by ...\n",
       "Personal Loan       Did this customer accept the personal loan off..."
      ]
     },
     "execution_count": 7,
     "metadata": {},
     "output_type": "execute_result"
    }
   ],
   "source": [
    "description_df"
   ]
  },
  {
   "cell_type": "code",
   "execution_count": 8,
   "id": "eaf79db4-f36e-4082-8ce7-aff505c8fb0b",
   "metadata": {},
   "outputs": [],
   "source": [
    "# defining the function to fetch the description of the data columns\n",
    "def fetch_desctipt(col_name):\n",
    "    return description_df.loc[col_name]['Description']"
   ]
  },
  {
   "cell_type": "code",
   "execution_count": 9,
   "id": "729f151b-403d-494f-a7fb-9f2961539aea",
   "metadata": {},
   "outputs": [],
   "source": [
    "#fetch_desctipt('Gender')"
   ]
  },
  {
   "cell_type": "code",
   "execution_count": 10,
   "id": "58dc3920-0d99-4cf9-84fc-c546c95f6c3d",
   "metadata": {},
   "outputs": [],
   "source": [
    "#customer Id is irrevalent so we discard this column\n",
    "data.drop('ID',inplace=True,axis=1)"
   ]
  },
  {
   "cell_type": "code",
   "execution_count": 11,
   "id": "c5de7c3d-310d-417e-8cfc-35238bf1ee75",
   "metadata": {},
   "outputs": [
    {
     "data": {
      "text/html": [
       "<div>\n",
       "<style scoped>\n",
       "    .dataframe tbody tr th:only-of-type {\n",
       "        vertical-align: middle;\n",
       "    }\n",
       "\n",
       "    .dataframe tbody tr th {\n",
       "        vertical-align: top;\n",
       "    }\n",
       "\n",
       "    .dataframe thead th {\n",
       "        text-align: right;\n",
       "    }\n",
       "</style>\n",
       "<table border=\"1\" class=\"dataframe\">\n",
       "  <thead>\n",
       "    <tr style=\"text-align: right;\">\n",
       "      <th></th>\n",
       "      <th>Age</th>\n",
       "      <th>Gender</th>\n",
       "      <th>Experience</th>\n",
       "      <th>Income</th>\n",
       "      <th>ZIP Code</th>\n",
       "      <th>Family</th>\n",
       "      <th>CCAvg</th>\n",
       "      <th>Education</th>\n",
       "      <th>Mortgage</th>\n",
       "      <th>Home Ownership</th>\n",
       "      <th>Personal Loan</th>\n",
       "      <th>Securities Account</th>\n",
       "      <th>CD Account</th>\n",
       "      <th>Online</th>\n",
       "      <th>CreditCard</th>\n",
       "    </tr>\n",
       "  </thead>\n",
       "  <tbody>\n",
       "    <tr>\n",
       "      <th>0</th>\n",
       "      <td>25</td>\n",
       "      <td>M</td>\n",
       "      <td>1</td>\n",
       "      <td>49.0</td>\n",
       "      <td>91107</td>\n",
       "      <td>4</td>\n",
       "      <td>1.6</td>\n",
       "      <td>1</td>\n",
       "      <td>0</td>\n",
       "      <td>Home Owner</td>\n",
       "      <td>0</td>\n",
       "      <td>1</td>\n",
       "      <td>0</td>\n",
       "      <td>0.0</td>\n",
       "      <td>0</td>\n",
       "    </tr>\n",
       "    <tr>\n",
       "      <th>1</th>\n",
       "      <td>45</td>\n",
       "      <td>M</td>\n",
       "      <td>19</td>\n",
       "      <td>34.0</td>\n",
       "      <td>90089</td>\n",
       "      <td>3</td>\n",
       "      <td>1.5</td>\n",
       "      <td>1</td>\n",
       "      <td>0</td>\n",
       "      <td>Rent</td>\n",
       "      <td>0</td>\n",
       "      <td>1</td>\n",
       "      <td>0</td>\n",
       "      <td>0.0</td>\n",
       "      <td>0</td>\n",
       "    </tr>\n",
       "    <tr>\n",
       "      <th>2</th>\n",
       "      <td>39</td>\n",
       "      <td>M</td>\n",
       "      <td>15</td>\n",
       "      <td>11.0</td>\n",
       "      <td>94720</td>\n",
       "      <td>1</td>\n",
       "      <td>1.0</td>\n",
       "      <td>1</td>\n",
       "      <td>0</td>\n",
       "      <td>Rent</td>\n",
       "      <td>0</td>\n",
       "      <td>0</td>\n",
       "      <td>0</td>\n",
       "      <td>0.0</td>\n",
       "      <td>0</td>\n",
       "    </tr>\n",
       "    <tr>\n",
       "      <th>3</th>\n",
       "      <td>35</td>\n",
       "      <td>M</td>\n",
       "      <td>9</td>\n",
       "      <td>100.0</td>\n",
       "      <td>94112</td>\n",
       "      <td>1</td>\n",
       "      <td>2.7</td>\n",
       "      <td>2</td>\n",
       "      <td>0</td>\n",
       "      <td>Rent</td>\n",
       "      <td>0</td>\n",
       "      <td>0</td>\n",
       "      <td>0</td>\n",
       "      <td>0.0</td>\n",
       "      <td>0</td>\n",
       "    </tr>\n",
       "    <tr>\n",
       "      <th>4</th>\n",
       "      <td>35</td>\n",
       "      <td>M</td>\n",
       "      <td>8</td>\n",
       "      <td>45.0</td>\n",
       "      <td>91330</td>\n",
       "      <td>4</td>\n",
       "      <td>1.0</td>\n",
       "      <td>2</td>\n",
       "      <td>0</td>\n",
       "      <td>Rent</td>\n",
       "      <td>0</td>\n",
       "      <td>0</td>\n",
       "      <td>0</td>\n",
       "      <td>0.0</td>\n",
       "      <td>1</td>\n",
       "    </tr>\n",
       "  </tbody>\n",
       "</table>\n",
       "</div>"
      ],
      "text/plain": [
       "   Age Gender  Experience  Income  ZIP Code  Family  CCAvg  Education  \\\n",
       "0   25      M           1    49.0     91107       4    1.6          1   \n",
       "1   45      M          19    34.0     90089       3    1.5          1   \n",
       "2   39      M          15    11.0     94720       1    1.0          1   \n",
       "3   35      M           9   100.0     94112       1    2.7          2   \n",
       "4   35      M           8    45.0     91330       4    1.0          2   \n",
       "\n",
       "   Mortgage Home Ownership Personal Loan  Securities Account  CD Account  \\\n",
       "0         0     Home Owner             0                   1           0   \n",
       "1         0           Rent             0                   1           0   \n",
       "2         0           Rent             0                   0           0   \n",
       "3         0           Rent             0                   0           0   \n",
       "4         0           Rent             0                   0           0   \n",
       "\n",
       "   Online  CreditCard  \n",
       "0     0.0           0  \n",
       "1     0.0           0  \n",
       "2     0.0           0  \n",
       "3     0.0           0  \n",
       "4     0.0           1  "
      ]
     },
     "execution_count": 11,
     "metadata": {},
     "output_type": "execute_result"
    }
   ],
   "source": [
    "data.head()"
   ]
  },
  {
   "cell_type": "code",
   "execution_count": 12,
   "id": "a7d2ccb7-60bf-4a40-a2d8-f700d7d65351",
   "metadata": {},
   "outputs": [
    {
     "name": "stdout",
     "output_type": "stream",
     "text": [
      "<class 'pandas.core.frame.DataFrame'>\n",
      "RangeIndex: 5000 entries, 0 to 4999\n",
      "Data columns (total 15 columns):\n",
      " #   Column              Non-Null Count  Dtype  \n",
      "---  ------              --------------  -----  \n",
      " 0   Age                 5000 non-null   int64  \n",
      " 1   Gender              3404 non-null   object \n",
      " 2   Experience          5000 non-null   int64  \n",
      " 3   Income              4933 non-null   float64\n",
      " 4   ZIP Code            5000 non-null   int64  \n",
      " 5   Family              5000 non-null   int64  \n",
      " 6   CCAvg               5000 non-null   float64\n",
      " 7   Education           5000 non-null   int64  \n",
      " 8   Mortgage            5000 non-null   int64  \n",
      " 9   Home Ownership      3811 non-null   object \n",
      " 10  Personal Loan       5000 non-null   object \n",
      " 11  Securities Account  5000 non-null   int64  \n",
      " 12  CD Account          5000 non-null   int64  \n",
      " 13  Online              4960 non-null   float64\n",
      " 14  CreditCard          5000 non-null   int64  \n",
      "dtypes: float64(3), int64(9), object(3)\n",
      "memory usage: 586.1+ KB\n"
     ]
    }
   ],
   "source": [
    "#data information\n",
    "data.info()"
   ]
  },
  {
   "cell_type": "markdown",
   "id": "e7d4e7d5-c905-4893-bd69-e0b88f65af6c",
   "metadata": {},
   "source": [
    "Through the above information, we can find: columns Gender, Income, Home Ownership, and Online have missing values "
   ]
  },
  {
   "cell_type": "code",
   "execution_count": 13,
   "id": "1efc3eea-d067-42c0-ae38-5e4790de9c48",
   "metadata": {},
   "outputs": [
    {
     "data": {
      "text/html": [
       "<div>\n",
       "<style scoped>\n",
       "    .dataframe tbody tr th:only-of-type {\n",
       "        vertical-align: middle;\n",
       "    }\n",
       "\n",
       "    .dataframe tbody tr th {\n",
       "        vertical-align: top;\n",
       "    }\n",
       "\n",
       "    .dataframe thead th {\n",
       "        text-align: right;\n",
       "    }\n",
       "</style>\n",
       "<table border=\"1\" class=\"dataframe\">\n",
       "  <thead>\n",
       "    <tr style=\"text-align: right;\">\n",
       "      <th></th>\n",
       "      <th>Age</th>\n",
       "      <th>Experience</th>\n",
       "      <th>Income</th>\n",
       "      <th>ZIP Code</th>\n",
       "      <th>Family</th>\n",
       "      <th>CCAvg</th>\n",
       "      <th>Education</th>\n",
       "      <th>Mortgage</th>\n",
       "      <th>Securities Account</th>\n",
       "      <th>CD Account</th>\n",
       "      <th>Online</th>\n",
       "      <th>CreditCard</th>\n",
       "    </tr>\n",
       "  </thead>\n",
       "  <tbody>\n",
       "    <tr>\n",
       "      <th>count</th>\n",
       "      <td>5000.000000</td>\n",
       "      <td>5000.000000</td>\n",
       "      <td>4933.000000</td>\n",
       "      <td>5000.000000</td>\n",
       "      <td>5000.000000</td>\n",
       "      <td>5000.000000</td>\n",
       "      <td>5000.000000</td>\n",
       "      <td>5000.000000</td>\n",
       "      <td>5000.000000</td>\n",
       "      <td>5000.00000</td>\n",
       "      <td>4960.000000</td>\n",
       "      <td>5000.000000</td>\n",
       "    </tr>\n",
       "    <tr>\n",
       "      <th>mean</th>\n",
       "      <td>46.008200</td>\n",
       "      <td>20.104600</td>\n",
       "      <td>72.758159</td>\n",
       "      <td>93152.503000</td>\n",
       "      <td>2.396400</td>\n",
       "      <td>1.937913</td>\n",
       "      <td>1.880600</td>\n",
       "      <td>56.498800</td>\n",
       "      <td>0.104400</td>\n",
       "      <td>0.06040</td>\n",
       "      <td>0.596976</td>\n",
       "      <td>0.294000</td>\n",
       "    </tr>\n",
       "    <tr>\n",
       "      <th>std</th>\n",
       "      <td>25.444898</td>\n",
       "      <td>11.467954</td>\n",
       "      <td>45.425519</td>\n",
       "      <td>2121.852197</td>\n",
       "      <td>1.147663</td>\n",
       "      <td>1.747666</td>\n",
       "      <td>0.839812</td>\n",
       "      <td>101.713802</td>\n",
       "      <td>0.305809</td>\n",
       "      <td>0.23825</td>\n",
       "      <td>0.490555</td>\n",
       "      <td>0.455637</td>\n",
       "    </tr>\n",
       "    <tr>\n",
       "      <th>min</th>\n",
       "      <td>0.000000</td>\n",
       "      <td>-3.000000</td>\n",
       "      <td>8.000000</td>\n",
       "      <td>9307.000000</td>\n",
       "      <td>1.000000</td>\n",
       "      <td>0.000000</td>\n",
       "      <td>1.000000</td>\n",
       "      <td>0.000000</td>\n",
       "      <td>0.000000</td>\n",
       "      <td>0.00000</td>\n",
       "      <td>0.000000</td>\n",
       "      <td>0.000000</td>\n",
       "    </tr>\n",
       "    <tr>\n",
       "      <th>25%</th>\n",
       "      <td>35.000000</td>\n",
       "      <td>10.000000</td>\n",
       "      <td>39.000000</td>\n",
       "      <td>91911.000000</td>\n",
       "      <td>1.000000</td>\n",
       "      <td>0.700000</td>\n",
       "      <td>1.000000</td>\n",
       "      <td>0.000000</td>\n",
       "      <td>0.000000</td>\n",
       "      <td>0.00000</td>\n",
       "      <td>0.000000</td>\n",
       "      <td>0.000000</td>\n",
       "    </tr>\n",
       "    <tr>\n",
       "      <th>50%</th>\n",
       "      <td>45.000000</td>\n",
       "      <td>20.000000</td>\n",
       "      <td>63.000000</td>\n",
       "      <td>93437.000000</td>\n",
       "      <td>2.000000</td>\n",
       "      <td>1.500000</td>\n",
       "      <td>2.000000</td>\n",
       "      <td>0.000000</td>\n",
       "      <td>0.000000</td>\n",
       "      <td>0.00000</td>\n",
       "      <td>1.000000</td>\n",
       "      <td>0.000000</td>\n",
       "    </tr>\n",
       "    <tr>\n",
       "      <th>75%</th>\n",
       "      <td>55.000000</td>\n",
       "      <td>30.000000</td>\n",
       "      <td>95.000000</td>\n",
       "      <td>94608.000000</td>\n",
       "      <td>3.000000</td>\n",
       "      <td>2.500000</td>\n",
       "      <td>3.000000</td>\n",
       "      <td>101.000000</td>\n",
       "      <td>0.000000</td>\n",
       "      <td>0.00000</td>\n",
       "      <td>1.000000</td>\n",
       "      <td>1.000000</td>\n",
       "    </tr>\n",
       "    <tr>\n",
       "      <th>max</th>\n",
       "      <td>978.000000</td>\n",
       "      <td>43.000000</td>\n",
       "      <td>224.000000</td>\n",
       "      <td>96651.000000</td>\n",
       "      <td>4.000000</td>\n",
       "      <td>10.000000</td>\n",
       "      <td>3.000000</td>\n",
       "      <td>635.000000</td>\n",
       "      <td>1.000000</td>\n",
       "      <td>1.00000</td>\n",
       "      <td>1.000000</td>\n",
       "      <td>1.000000</td>\n",
       "    </tr>\n",
       "  </tbody>\n",
       "</table>\n",
       "</div>"
      ],
      "text/plain": [
       "               Age   Experience       Income      ZIP Code       Family  \\\n",
       "count  5000.000000  5000.000000  4933.000000   5000.000000  5000.000000   \n",
       "mean     46.008200    20.104600    72.758159  93152.503000     2.396400   \n",
       "std      25.444898    11.467954    45.425519   2121.852197     1.147663   \n",
       "min       0.000000    -3.000000     8.000000   9307.000000     1.000000   \n",
       "25%      35.000000    10.000000    39.000000  91911.000000     1.000000   \n",
       "50%      45.000000    20.000000    63.000000  93437.000000     2.000000   \n",
       "75%      55.000000    30.000000    95.000000  94608.000000     3.000000   \n",
       "max     978.000000    43.000000   224.000000  96651.000000     4.000000   \n",
       "\n",
       "             CCAvg    Education     Mortgage  Securities Account  CD Account  \\\n",
       "count  5000.000000  5000.000000  5000.000000         5000.000000  5000.00000   \n",
       "mean      1.937913     1.880600    56.498800            0.104400     0.06040   \n",
       "std       1.747666     0.839812   101.713802            0.305809     0.23825   \n",
       "min       0.000000     1.000000     0.000000            0.000000     0.00000   \n",
       "25%       0.700000     1.000000     0.000000            0.000000     0.00000   \n",
       "50%       1.500000     2.000000     0.000000            0.000000     0.00000   \n",
       "75%       2.500000     3.000000   101.000000            0.000000     0.00000   \n",
       "max      10.000000     3.000000   635.000000            1.000000     1.00000   \n",
       "\n",
       "            Online   CreditCard  \n",
       "count  4960.000000  5000.000000  \n",
       "mean      0.596976     0.294000  \n",
       "std       0.490555     0.455637  \n",
       "min       0.000000     0.000000  \n",
       "25%       0.000000     0.000000  \n",
       "50%       1.000000     0.000000  \n",
       "75%       1.000000     1.000000  \n",
       "max       1.000000     1.000000  "
      ]
     },
     "execution_count": 13,
     "metadata": {},
     "output_type": "execute_result"
    }
   ],
   "source": [
    "#description the the data with intger and float values\n",
    "data.describe()"
   ]
  },
  {
   "cell_type": "markdown",
   "id": "8634d6fe-4f0d-4851-a067-ca6a7c97e9da",
   "metadata": {},
   "source": [
    "Here we can see the max age is 978 and min age is 0 which is not possible in the give case scenerio\n",
    "Experience -3, which is minumum experience, also not valid input to the experience column"
   ]
  },
  {
   "cell_type": "code",
   "execution_count": 14,
   "id": "b9dd681c-5b41-4453-a570-1490bbe43b73",
   "metadata": {},
   "outputs": [],
   "source": [
    "#data[data['Age'] == 978]"
   ]
  },
  {
   "cell_type": "code",
   "execution_count": 15,
   "id": "fe1bbfe9-f95a-40f6-9d35-0edc61311d52",
   "metadata": {},
   "outputs": [
    {
     "data": {
      "text/plain": [
       "0       True\n",
       "1       True\n",
       "2       True\n",
       "3       True\n",
       "4       True\n",
       "        ... \n",
       "4995    True\n",
       "4996    True\n",
       "4997    True\n",
       "4998    True\n",
       "4999    True\n",
       "Name: Age, Length: 5000, dtype: bool"
      ]
     },
     "execution_count": 15,
     "metadata": {},
     "output_type": "execute_result"
    }
   ],
   "source": [
    "data['Age']>1"
   ]
  },
  {
   "cell_type": "code",
   "execution_count": 16,
   "id": "3009eb12-de9d-4617-91c3-e8cfb1b0165c",
   "metadata": {},
   "outputs": [
    {
     "data": {
      "text/html": [
       "<div>\n",
       "<style scoped>\n",
       "    .dataframe tbody tr th:only-of-type {\n",
       "        vertical-align: middle;\n",
       "    }\n",
       "\n",
       "    .dataframe tbody tr th {\n",
       "        vertical-align: top;\n",
       "    }\n",
       "\n",
       "    .dataframe thead th {\n",
       "        text-align: right;\n",
       "    }\n",
       "</style>\n",
       "<table border=\"1\" class=\"dataframe\">\n",
       "  <thead>\n",
       "    <tr style=\"text-align: right;\">\n",
       "      <th></th>\n",
       "      <th>Age</th>\n",
       "      <th>Gender</th>\n",
       "      <th>Experience</th>\n",
       "      <th>Income</th>\n",
       "      <th>ZIP Code</th>\n",
       "      <th>Family</th>\n",
       "      <th>CCAvg</th>\n",
       "      <th>Education</th>\n",
       "      <th>Mortgage</th>\n",
       "      <th>Home Ownership</th>\n",
       "      <th>Personal Loan</th>\n",
       "      <th>Securities Account</th>\n",
       "      <th>CD Account</th>\n",
       "      <th>Online</th>\n",
       "      <th>CreditCard</th>\n",
       "    </tr>\n",
       "  </thead>\n",
       "  <tbody>\n",
       "    <tr>\n",
       "      <th>53</th>\n",
       "      <td>567</td>\n",
       "      <td>M</td>\n",
       "      <td>26</td>\n",
       "      <td>190.0</td>\n",
       "      <td>90245</td>\n",
       "      <td>3</td>\n",
       "      <td>2.1</td>\n",
       "      <td>3</td>\n",
       "      <td>240</td>\n",
       "      <td>Rent</td>\n",
       "      <td>1</td>\n",
       "      <td>0</td>\n",
       "      <td>0</td>\n",
       "      <td>1.0</td>\n",
       "      <td>0</td>\n",
       "    </tr>\n",
       "    <tr>\n",
       "      <th>131</th>\n",
       "      <td>122</td>\n",
       "      <td>M</td>\n",
       "      <td>34</td>\n",
       "      <td>149.0</td>\n",
       "      <td>93720</td>\n",
       "      <td>4</td>\n",
       "      <td>7.2</td>\n",
       "      <td>2</td>\n",
       "      <td>0</td>\n",
       "      <td>Rent</td>\n",
       "      <td>1</td>\n",
       "      <td>0</td>\n",
       "      <td>1</td>\n",
       "      <td>1.0</td>\n",
       "      <td>1</td>\n",
       "    </tr>\n",
       "    <tr>\n",
       "      <th>765</th>\n",
       "      <td>978</td>\n",
       "      <td>M</td>\n",
       "      <td>21</td>\n",
       "      <td>109.0</td>\n",
       "      <td>95822</td>\n",
       "      <td>4</td>\n",
       "      <td>1.8</td>\n",
       "      <td>1</td>\n",
       "      <td>0</td>\n",
       "      <td>Rent</td>\n",
       "      <td>1</td>\n",
       "      <td>0</td>\n",
       "      <td>0</td>\n",
       "      <td>0.0</td>\n",
       "      <td>0</td>\n",
       "    </tr>\n",
       "    <tr>\n",
       "      <th>2005</th>\n",
       "      <td>786</td>\n",
       "      <td>F</td>\n",
       "      <td>23</td>\n",
       "      <td>170.0</td>\n",
       "      <td>90254</td>\n",
       "      <td>2</td>\n",
       "      <td>6.5</td>\n",
       "      <td>2</td>\n",
       "      <td>0</td>\n",
       "      <td>Home Mortage</td>\n",
       "      <td>1</td>\n",
       "      <td>0</td>\n",
       "      <td>1</td>\n",
       "      <td>1.0</td>\n",
       "      <td>1</td>\n",
       "    </tr>\n",
       "    <tr>\n",
       "      <th>2101</th>\n",
       "      <td>600</td>\n",
       "      <td>M</td>\n",
       "      <td>5</td>\n",
       "      <td>203.0</td>\n",
       "      <td>95032</td>\n",
       "      <td>1</td>\n",
       "      <td>10.0</td>\n",
       "      <td>3</td>\n",
       "      <td>0</td>\n",
       "      <td>Home Mortage</td>\n",
       "      <td>1</td>\n",
       "      <td>0</td>\n",
       "      <td>0</td>\n",
       "      <td>0.0</td>\n",
       "      <td>0</td>\n",
       "    </tr>\n",
       "    <tr>\n",
       "      <th>2541</th>\n",
       "      <td>797</td>\n",
       "      <td>M</td>\n",
       "      <td>8</td>\n",
       "      <td>171.0</td>\n",
       "      <td>90212</td>\n",
       "      <td>2</td>\n",
       "      <td>2.2</td>\n",
       "      <td>2</td>\n",
       "      <td>569</td>\n",
       "      <td>Home Owner</td>\n",
       "      <td>1</td>\n",
       "      <td>0</td>\n",
       "      <td>0</td>\n",
       "      <td>1.0</td>\n",
       "      <td>0</td>\n",
       "    </tr>\n",
       "  </tbody>\n",
       "</table>\n",
       "</div>"
      ],
      "text/plain": [
       "      Age Gender  Experience  Income  ZIP Code  Family  CCAvg  Education  \\\n",
       "53    567      M          26   190.0     90245       3    2.1          3   \n",
       "131   122      M          34   149.0     93720       4    7.2          2   \n",
       "765   978      M          21   109.0     95822       4    1.8          1   \n",
       "2005  786      F          23   170.0     90254       2    6.5          2   \n",
       "2101  600      M           5   203.0     95032       1   10.0          3   \n",
       "2541  797      M           8   171.0     90212       2    2.2          2   \n",
       "\n",
       "      Mortgage Home Ownership Personal Loan  Securities Account  CD Account  \\\n",
       "53         240           Rent             1                   0           0   \n",
       "131          0           Rent             1                   0           1   \n",
       "765          0           Rent             1                   0           0   \n",
       "2005         0   Home Mortage             1                   0           1   \n",
       "2101         0   Home Mortage             1                   0           0   \n",
       "2541       569     Home Owner             1                   0           0   \n",
       "\n",
       "      Online  CreditCard  \n",
       "53       1.0           0  \n",
       "131      1.0           1  \n",
       "765      0.0           0  \n",
       "2005     1.0           1  \n",
       "2101     0.0           0  \n",
       "2541     1.0           0  "
      ]
     },
     "execution_count": 16,
     "metadata": {},
     "output_type": "execute_result"
    }
   ],
   "source": [
    "data[data['Age']>100]"
   ]
  },
  {
   "cell_type": "code",
   "execution_count": 17,
   "id": "e2ea306d-63d7-4c17-8cdb-541a62f22b2f",
   "metadata": {},
   "outputs": [
    {
     "data": {
      "text/plain": [
       "'Age of the customer'"
      ]
     },
     "execution_count": 17,
     "metadata": {},
     "output_type": "execute_result"
    }
   ],
   "source": [
    "fetch_desctipt('Age')"
   ]
  },
  {
   "cell_type": "markdown",
   "id": "c8439d6a-7527-4575-94be-f2acce7bbe51",
   "metadata": {},
   "source": [
    "Here Age column define the age of the customers. So, data having Age above 100 can be discard "
   ]
  },
  {
   "cell_type": "code",
   "execution_count": 18,
   "id": "7c5a4b92-664e-417b-9eee-fb42fcedc89a",
   "metadata": {},
   "outputs": [],
   "source": [
    "data.drop(data[data['Age']>100].index,inplace= True)"
   ]
  },
  {
   "cell_type": "code",
   "execution_count": 19,
   "id": "3ee907eb-4933-4fa3-9447-7bdac7100b9b",
   "metadata": {},
   "outputs": [
    {
     "name": "stdout",
     "output_type": "stream",
     "text": [
      "<class 'pandas.core.frame.DataFrame'>\n",
      "Index: 4994 entries, 0 to 4999\n",
      "Data columns (total 15 columns):\n",
      " #   Column              Non-Null Count  Dtype  \n",
      "---  ------              --------------  -----  \n",
      " 0   Age                 4994 non-null   int64  \n",
      " 1   Gender              3398 non-null   object \n",
      " 2   Experience          4994 non-null   int64  \n",
      " 3   Income              4927 non-null   float64\n",
      " 4   ZIP Code            4994 non-null   int64  \n",
      " 5   Family              4994 non-null   int64  \n",
      " 6   CCAvg               4994 non-null   float64\n",
      " 7   Education           4994 non-null   int64  \n",
      " 8   Mortgage            4994 non-null   int64  \n",
      " 9   Home Ownership      3805 non-null   object \n",
      " 10  Personal Loan       4994 non-null   object \n",
      " 11  Securities Account  4994 non-null   int64  \n",
      " 12  CD Account          4994 non-null   int64  \n",
      " 13  Online              4954 non-null   float64\n",
      " 14  CreditCard          4994 non-null   int64  \n",
      "dtypes: float64(3), int64(9), object(3)\n",
      "memory usage: 624.2+ KB\n"
     ]
    }
   ],
   "source": [
    "data.info()"
   ]
  },
  {
   "cell_type": "code",
   "execution_count": 20,
   "id": "df14e642-a42b-43c7-90c8-c86faadb0b0a",
   "metadata": {},
   "outputs": [],
   "source": [
    "#data[data['Age']>=100]"
   ]
  },
  {
   "cell_type": "code",
   "execution_count": 21,
   "id": "5b2bfb46-0452-4f53-af49-6674e302d658",
   "metadata": {},
   "outputs": [],
   "source": [
    "#data[data['Experience']<0].count()"
   ]
  },
  {
   "cell_type": "code",
   "execution_count": 22,
   "id": "17bd3375-724d-4d7e-ac01-6fac1614c451",
   "metadata": {},
   "outputs": [
    {
     "data": {
      "text/plain": [
       "'Amount of work experience in years'"
      ]
     },
     "execution_count": 22,
     "metadata": {},
     "output_type": "execute_result"
    }
   ],
   "source": [
    "fetch_desctipt('Experience')"
   ]
  },
  {
   "cell_type": "markdown",
   "id": "72c0867d-a4ea-4bc7-ac07-e59683290e04",
   "metadata": {},
   "source": [
    "well, amount of work experiece cannot be lesser than 0 solet's make all values lesser than 0 be 0"
   ]
  },
  {
   "cell_type": "code",
   "execution_count": 23,
   "id": "10131c0d-6e53-4de5-a8ef-19b2391172bb",
   "metadata": {},
   "outputs": [],
   "source": [
    "data['Experience'] = data['Experience'].apply(lambda expri: 0 if expri < 0 else expri)"
   ]
  },
  {
   "cell_type": "markdown",
   "id": "3e8d175e-48aa-4785-b302-5e2d46cbf37c",
   "metadata": {},
   "source": [
    "Now data_column 'Gender' have a missing values let's solve that issre"
   ]
  },
  {
   "cell_type": "code",
   "execution_count": 24,
   "id": "3d01fa7e-1b3a-4f90-a13f-800edf987f13",
   "metadata": {},
   "outputs": [],
   "source": [
    "#data['Gender'].unique()"
   ]
  },
  {
   "cell_type": "code",
   "execution_count": 25,
   "id": "a976a5b1-9cc1-4af4-8186-e72bc0efe3c1",
   "metadata": {},
   "outputs": [],
   "source": [
    "#fetch_desctipt('Gender')"
   ]
  },
  {
   "cell_type": "markdown",
   "id": "bc4f7989-ebd2-47b9-8415-c8aa637552b9",
   "metadata": {},
   "source": [
    "Now replacing the values with 'O' i.e others if they are not in category of M and F"
   ]
  },
  {
   "cell_type": "code",
   "execution_count": 26,
   "id": "31910c90-fad3-484a-b6cf-df7ca246b972",
   "metadata": {},
   "outputs": [],
   "source": [
    "data['Gender'] = data['Gender'].apply(lambda x : 'O' if x not in [ 'M','F'] else x)"
   ]
  },
  {
   "cell_type": "code",
   "execution_count": 27,
   "id": "40d0415f-d62e-47e1-a4e8-4cf49a91de44",
   "metadata": {},
   "outputs": [
    {
     "data": {
      "text/plain": [
       "array(['M', 'F', 'O'], dtype=object)"
      ]
     },
     "execution_count": 27,
     "metadata": {},
     "output_type": "execute_result"
    }
   ],
   "source": [
    "data['Gender'].unique()"
   ]
  },
  {
   "cell_type": "code",
   "execution_count": 28,
   "id": "e571de8b-1a11-4c24-ab38-bc5db39c11be",
   "metadata": {},
   "outputs": [
    {
     "data": {
      "text/plain": [
       "'Did this customer accept the personal loan offered in the last campaign?'"
      ]
     },
     "execution_count": 28,
     "metadata": {},
     "output_type": "execute_result"
    }
   ],
   "source": [
    "fetch_desctipt('Personal Loan')"
   ]
  },
  {
   "cell_type": "code",
   "execution_count": 29,
   "id": "13d19818-d64f-4292-a196-556a445d353d",
   "metadata": {},
   "outputs": [
    {
     "data": {
      "text/plain": [
       "array([0, 1, ' '], dtype=object)"
      ]
     },
     "execution_count": 29,
     "metadata": {},
     "output_type": "execute_result"
    }
   ],
   "source": [
    "data['Personal Loan'].unique()"
   ]
  },
  {
   "cell_type": "code",
   "execution_count": 30,
   "id": "33da4501-4659-4d12-b903-fafb42d481be",
   "metadata": {},
   "outputs": [
    {
     "data": {
      "text/html": [
       "<div>\n",
       "<style scoped>\n",
       "    .dataframe tbody tr th:only-of-type {\n",
       "        vertical-align: middle;\n",
       "    }\n",
       "\n",
       "    .dataframe tbody tr th {\n",
       "        vertical-align: top;\n",
       "    }\n",
       "\n",
       "    .dataframe thead th {\n",
       "        text-align: right;\n",
       "    }\n",
       "</style>\n",
       "<table border=\"1\" class=\"dataframe\">\n",
       "  <thead>\n",
       "    <tr style=\"text-align: right;\">\n",
       "      <th></th>\n",
       "      <th>Age</th>\n",
       "      <th>Gender</th>\n",
       "      <th>Experience</th>\n",
       "      <th>Income</th>\n",
       "      <th>ZIP Code</th>\n",
       "      <th>Family</th>\n",
       "      <th>CCAvg</th>\n",
       "      <th>Education</th>\n",
       "      <th>Mortgage</th>\n",
       "      <th>Home Ownership</th>\n",
       "      <th>Personal Loan</th>\n",
       "      <th>Securities Account</th>\n",
       "      <th>CD Account</th>\n",
       "      <th>Online</th>\n",
       "      <th>CreditCard</th>\n",
       "    </tr>\n",
       "  </thead>\n",
       "  <tbody>\n",
       "    <tr>\n",
       "      <th>42</th>\n",
       "      <td>32</td>\n",
       "      <td>M</td>\n",
       "      <td>7</td>\n",
       "      <td>132.0</td>\n",
       "      <td>90019</td>\n",
       "      <td>4</td>\n",
       "      <td>1.1</td>\n",
       "      <td>2</td>\n",
       "      <td>412</td>\n",
       "      <td>Home Mortage</td>\n",
       "      <td></td>\n",
       "      <td>0</td>\n",
       "      <td>0</td>\n",
       "      <td>1.0</td>\n",
       "      <td>0</td>\n",
       "    </tr>\n",
       "  </tbody>\n",
       "</table>\n",
       "</div>"
      ],
      "text/plain": [
       "    Age Gender  Experience  Income  ZIP Code  Family  CCAvg  Education  \\\n",
       "42   32      M           7   132.0     90019       4    1.1          2   \n",
       "\n",
       "    Mortgage Home Ownership Personal Loan  Securities Account  CD Account  \\\n",
       "42       412   Home Mortage                                 0           0   \n",
       "\n",
       "    Online  CreditCard  \n",
       "42     1.0           0  "
      ]
     },
     "execution_count": 30,
     "metadata": {},
     "output_type": "execute_result"
    }
   ],
   "source": [
    "data[data['Personal Loan'] == ' ']"
   ]
  },
  {
   "cell_type": "markdown",
   "id": "2c1125c4-0d54-4d82-aed5-e12b60657ee5",
   "metadata": {},
   "source": [
    "One value of Personal Loan is empty so replacing the empty space with 0 and converting it's datatype"
   ]
  },
  {
   "cell_type": "code",
   "execution_count": 31,
   "id": "8364011e-c04e-4dfd-8c2c-c6fa46b7420f",
   "metadata": {},
   "outputs": [
    {
     "name": "stderr",
     "output_type": "stream",
     "text": [
      "C:\\Users\\User\\AppData\\Local\\Temp\\ipykernel_18388\\4136552752.py:1: FutureWarning: Downcasting behavior in `replace` is deprecated and will be removed in a future version. To retain the old behavior, explicitly call `result.infer_objects(copy=False)`. To opt-in to the future behavior, set `pd.set_option('future.no_silent_downcasting', True)`\n",
      "  data['Personal Loan'] = data['Personal Loan'].replace(' ',0)\n"
     ]
    }
   ],
   "source": [
    "data['Personal Loan'] = data['Personal Loan'].replace(' ',0)\n",
    "data['Personal Loan'] = data['Personal Loan'].astype(int)"
   ]
  },
  {
   "cell_type": "code",
   "execution_count": 32,
   "id": "1ef095c0-11aa-4714-83a4-380c0b61b793",
   "metadata": {},
   "outputs": [],
   "source": [
    "#(data['Personal Loan'].dtype)"
   ]
  },
  {
   "cell_type": "code",
   "execution_count": 33,
   "id": "7e80eb10-7837-47c7-9a45-34dafad518e6",
   "metadata": {},
   "outputs": [],
   "source": [
    "#['Personal Loan'].unique()"
   ]
  },
  {
   "cell_type": "markdown",
   "id": "7d937149-3b24-4149-acb5-ad1664aeb2ce",
   "metadata": {},
   "source": [
    "Now checking other null values"
   ]
  },
  {
   "cell_type": "code",
   "execution_count": 34,
   "id": "b7d24454-5605-4493-9f54-2c33d392dc9a",
   "metadata": {},
   "outputs": [],
   "source": [
    "#data.isnull().sum()"
   ]
  },
  {
   "cell_type": "code",
   "execution_count": 35,
   "id": "47b0a7df-3916-485e-9dee-8cdd09a71c4d",
   "metadata": {},
   "outputs": [],
   "source": [
    "#data[data['Income'].isnull()]"
   ]
  },
  {
   "cell_type": "markdown",
   "id": "38f33be8-2781-42b7-a5c9-50e93e06a1cd",
   "metadata": {},
   "source": [
    "Now replacing the NaN value of income with 0"
   ]
  },
  {
   "cell_type": "code",
   "execution_count": 36,
   "id": "6657a8f3-4fc2-4c93-8180-cd5f256f012f",
   "metadata": {},
   "outputs": [
    {
     "name": "stderr",
     "output_type": "stream",
     "text": [
      "C:\\Users\\User\\AppData\\Local\\Temp\\ipykernel_18388\\2496502078.py:1: FutureWarning: A value is trying to be set on a copy of a DataFrame or Series through chained assignment using an inplace method.\n",
      "The behavior will change in pandas 3.0. This inplace method will never work because the intermediate object on which we are setting values always behaves as a copy.\n",
      "\n",
      "For example, when doing 'df[col].method(value, inplace=True)', try using 'df.method({col: value}, inplace=True)' or df[col] = df[col].method(value) instead, to perform the operation inplace on the original object.\n",
      "\n",
      "\n",
      "  data['Income'].fillna(0,inplace = True)\n"
     ]
    }
   ],
   "source": [
    "data['Income'].fillna(0,inplace = True)"
   ]
  },
  {
   "cell_type": "code",
   "execution_count": 37,
   "id": "cf70ca7f-974a-44fc-be67-e70aaf2a3fe6",
   "metadata": {},
   "outputs": [
    {
     "data": {
      "text/plain": [
       "0"
      ]
     },
     "execution_count": 37,
     "metadata": {},
     "output_type": "execute_result"
    }
   ],
   "source": [
    "data['Income'].isnull().sum()"
   ]
  },
  {
   "cell_type": "code",
   "execution_count": 38,
   "id": "594fc358-66d8-4b06-ab79-5aa6a59d1fbf",
   "metadata": {},
   "outputs": [
    {
     "data": {
      "text/plain": [
       "array(['Home Owner', 'Rent', 'Home Mortage', nan], dtype=object)"
      ]
     },
     "execution_count": 38,
     "metadata": {},
     "output_type": "execute_result"
    }
   ],
   "source": [
    "data['Home Ownership'].unique()"
   ]
  },
  {
   "cell_type": "code",
   "execution_count": 39,
   "id": "0c64ae6e-8287-4581-ad90-d6ad4b4b7b40",
   "metadata": {},
   "outputs": [
    {
     "data": {
      "text/plain": [
       "1189"
      ]
     },
     "execution_count": 39,
     "metadata": {},
     "output_type": "execute_result"
    }
   ],
   "source": [
    "data['Home Ownership'].isnull().sum()"
   ]
  },
  {
   "cell_type": "markdown",
   "id": "db281f38-855d-4900-88bd-dda313a06e0a",
   "metadata": {},
   "source": [
    "Now filling the NaN value of home Ownership with 'Other' value"
   ]
  },
  {
   "cell_type": "code",
   "execution_count": 40,
   "id": "f84586d0-6857-4158-8e37-ccdbefb82e0f",
   "metadata": {},
   "outputs": [
    {
     "name": "stderr",
     "output_type": "stream",
     "text": [
      "C:\\Users\\User\\AppData\\Local\\Temp\\ipykernel_18388\\1499684559.py:1: FutureWarning: A value is trying to be set on a copy of a DataFrame or Series through chained assignment using an inplace method.\n",
      "The behavior will change in pandas 3.0. This inplace method will never work because the intermediate object on which we are setting values always behaves as a copy.\n",
      "\n",
      "For example, when doing 'df[col].method(value, inplace=True)', try using 'df.method({col: value}, inplace=True)' or df[col] = df[col].method(value) instead, to perform the operation inplace on the original object.\n",
      "\n",
      "\n",
      "  data['Home Ownership'].fillna('Others',inplace = True)\n"
     ]
    }
   ],
   "source": [
    "data['Home Ownership'].fillna('Others',inplace = True)"
   ]
  },
  {
   "cell_type": "code",
   "execution_count": 41,
   "id": "b556439e-5d19-4d59-b599-4d6e3f4fa215",
   "metadata": {},
   "outputs": [
    {
     "data": {
      "text/plain": [
       "0"
      ]
     },
     "execution_count": 41,
     "metadata": {},
     "output_type": "execute_result"
    }
   ],
   "source": [
    "data['Home Ownership'].isnull().sum()"
   ]
  },
  {
   "cell_type": "code",
   "execution_count": 42,
   "id": "50d8127e-05bd-4685-aa55-b8afc6d4d1c1",
   "metadata": {},
   "outputs": [
    {
     "data": {
      "text/plain": [
       "array([ 0.,  1., nan])"
      ]
     },
     "execution_count": 42,
     "metadata": {},
     "output_type": "execute_result"
    }
   ],
   "source": [
    "data['Online'].unique()"
   ]
  },
  {
   "cell_type": "code",
   "execution_count": 43,
   "id": "2098a18a-786e-451d-a595-3df4c0b855ec",
   "metadata": {},
   "outputs": [
    {
     "data": {
      "text/plain": [
       "'Does the customer use the internet banking facilities?'"
      ]
     },
     "execution_count": 43,
     "metadata": {},
     "output_type": "execute_result"
    }
   ],
   "source": [
    "fetch_desctipt('Online')"
   ]
  },
  {
   "cell_type": "markdown",
   "id": "5f387e09-8acf-45b0-a903-efad836b2234",
   "metadata": {},
   "source": [
    "Now filling the null value of Online column with 0"
   ]
  },
  {
   "cell_type": "code",
   "execution_count": 44,
   "id": "3b711bdc-fa51-4eda-a5de-98bfde93922d",
   "metadata": {},
   "outputs": [
    {
     "name": "stderr",
     "output_type": "stream",
     "text": [
      "C:\\Users\\User\\AppData\\Local\\Temp\\ipykernel_18388\\875958593.py:1: FutureWarning: A value is trying to be set on a copy of a DataFrame or Series through chained assignment using an inplace method.\n",
      "The behavior will change in pandas 3.0. This inplace method will never work because the intermediate object on which we are setting values always behaves as a copy.\n",
      "\n",
      "For example, when doing 'df[col].method(value, inplace=True)', try using 'df.method({col: value}, inplace=True)' or df[col] = df[col].method(value) instead, to perform the operation inplace on the original object.\n",
      "\n",
      "\n",
      "  data['Online'].fillna(0,inplace = True)\n"
     ]
    }
   ],
   "source": [
    "data['Online'].fillna(0,inplace = True)"
   ]
  },
  {
   "cell_type": "code",
   "execution_count": 45,
   "id": "ceb8742a-a8c1-427a-a273-55cdbb50cd89",
   "metadata": {},
   "outputs": [
    {
     "data": {
      "text/plain": [
       "Age                   0\n",
       "Gender                0\n",
       "Experience            0\n",
       "Income                0\n",
       "ZIP Code              0\n",
       "Family                0\n",
       "CCAvg                 0\n",
       "Education             0\n",
       "Mortgage              0\n",
       "Home Ownership        0\n",
       "Personal Loan         0\n",
       "Securities Account    0\n",
       "CD Account            0\n",
       "Online                0\n",
       "CreditCard            0\n",
       "dtype: int64"
      ]
     },
     "execution_count": 45,
     "metadata": {},
     "output_type": "execute_result"
    }
   ],
   "source": [
    "data.isnull().sum()"
   ]
  },
  {
   "cell_type": "markdown",
   "id": "56a26e97-1b11-45b4-9750-ad23acbcba86",
   "metadata": {},
   "source": [
    "Now we have no null values"
   ]
  },
  {
   "cell_type": "code",
   "execution_count": 46,
   "id": "39ba9a96-af66-4de8-8b70-49d35c75330e",
   "metadata": {},
   "outputs": [
    {
     "data": {
      "text/plain": [
       "<Axes: xlabel='Personal Loan', ylabel='count'>"
      ]
     },
     "execution_count": 46,
     "metadata": {},
     "output_type": "execute_result"
    },
    {
     "data": {
      "image/png": "[encoded data removed]",
      "text/plain": [
       "<Figure size 640x480 with 1 Axes>"
      ]
     },
     "metadata": {},
     "output_type": "display_data"
    }
   ],
   "source": [
    "sns.countplot(data=data, x='Personal Loan')"
   ]
  },
  {
   "cell_type": "markdown",
   "id": "5874cc2a-d4db-41e7-b3ae-fcefe513900f",
   "metadata": {},
   "source": [
    "Here in this data we have very little number of customers who accepted the personal loan"
   ]
  },
  {
   "cell_type": "code",
   "execution_count": 47,
   "id": "1b054125-7b86-417a-9941-32e1394e3abd",
   "metadata": {},
   "outputs": [
    {
     "data": {
      "text/plain": [
       "<Axes: xlabel='Personal Loan', ylabel='Income'>"
      ]
     },
     "execution_count": 47,
     "metadata": {},
     "output_type": "execute_result"
    },
    {
     "data": {
      "image/png": "[encoded data removed]",
      "text/plain": [
       "<Figure size 640x480 with 1 Axes>"
      ]
     },
     "metadata": {},
     "output_type": "display_data"
    }
   ],
   "source": [
    "sns.histplot(data=data, x='Personal Loan',y='Income')"
   ]
  },
  {
   "cell_type": "code",
   "execution_count": 48,
   "id": "fa090086-e68b-4c66-8d20-3dea6bf965d6",
   "metadata": {},
   "outputs": [
    {
     "data": {
      "text/plain": [
       "<Axes: xlabel='Personal Loan', ylabel='Income'>"
      ]
     },
     "execution_count": 48,
     "metadata": {},
     "output_type": "execute_result"
    },
    {
     "data": {
      "image/png": "[encoded data removed]",
      "text/plain": [
       "<Figure size 640x480 with 1 Axes>"
      ]
     },
     "metadata": {},
     "output_type": "display_data"
    }
   ],
   "source": [
    "sns.scatterplot(data=data, x='Personal Loan',y='Income')"
   ]
  },
  {
   "cell_type": "markdown",
   "id": "5061210d-ea65-4eda-9e00-cb86ab076e42",
   "metadata": {},
   "source": [
    "Now converting the given data into machine understanding for i.e 0 and 1"
   ]
  },
  {
   "cell_type": "code",
   "execution_count": 49,
   "id": "acbfc7b1-c9b5-4508-81c3-e59074b9ae0a",
   "metadata": {},
   "outputs": [],
   "source": [
    "data['Gender'] = data['Gender'].apply(lambda x: 1 if x == 'M' else (2 if x == 'F' else 0))"
   ]
  },
  {
   "cell_type": "code",
   "execution_count": 50,
   "id": "fbcf191d-4313-4c86-9d28-b5ad0883b0b1",
   "metadata": {},
   "outputs": [
    {
     "data": {
      "text/plain": [
       "array([1, 2, 0], dtype=int64)"
      ]
     },
     "execution_count": 50,
     "metadata": {},
     "output_type": "execute_result"
    }
   ],
   "source": [
    "data['Gender'].unique()"
   ]
  },
  {
   "cell_type": "code",
   "execution_count": 51,
   "id": "7198ca82-0e91-4466-9837-750263d6568a",
   "metadata": {},
   "outputs": [],
   "source": [
    "gender_dummies = pd.get_dummies(data['Gender'], prefix='Gender')"
   ]
  },
  {
   "cell_type": "code",
   "execution_count": 52,
   "id": "9ef420e1-f604-4528-a800-bc595588e0d4",
   "metadata": {},
   "outputs": [],
   "source": [
    "gender_dummies.rename(columns= {'Gender_0':'Other_Genders','Gender_1':'Male','Gender_2':'Female'},inplace=True)"
   ]
  },
  {
   "cell_type": "code",
   "execution_count": 53,
   "id": "f2a354b3-6645-4c74-89d8-1635797ed5de",
   "metadata": {},
   "outputs": [],
   "source": [
    "data = pd.concat([data, gender_dummies], axis=1)"
   ]
  },
  {
   "cell_type": "code",
   "execution_count": 54,
   "id": "56770b04-663f-45ce-ba5a-fa64caf74692",
   "metadata": {},
   "outputs": [
    {
     "data": {
      "text/html": [
       "<div>\n",
       "<style scoped>\n",
       "    .dataframe tbody tr th:only-of-type {\n",
       "        vertical-align: middle;\n",
       "    }\n",
       "\n",
       "    .dataframe tbody tr th {\n",
       "        vertical-align: top;\n",
       "    }\n",
       "\n",
       "    .dataframe thead th {\n",
       "        text-align: right;\n",
       "    }\n",
       "</style>\n",
       "<table border=\"1\" class=\"dataframe\">\n",
       "  <thead>\n",
       "    <tr style=\"text-align: right;\">\n",
       "      <th></th>\n",
       "      <th>Age</th>\n",
       "      <th>Gender</th>\n",
       "      <th>Experience</th>\n",
       "      <th>Income</th>\n",
       "      <th>ZIP Code</th>\n",
       "      <th>Family</th>\n",
       "      <th>CCAvg</th>\n",
       "      <th>Education</th>\n",
       "      <th>Mortgage</th>\n",
       "      <th>Home Ownership</th>\n",
       "      <th>Personal Loan</th>\n",
       "      <th>Securities Account</th>\n",
       "      <th>CD Account</th>\n",
       "      <th>Online</th>\n",
       "      <th>CreditCard</th>\n",
       "      <th>Other_Genders</th>\n",
       "      <th>Male</th>\n",
       "      <th>Female</th>\n",
       "    </tr>\n",
       "  </thead>\n",
       "  <tbody>\n",
       "    <tr>\n",
       "      <th>0</th>\n",
       "      <td>25</td>\n",
       "      <td>1</td>\n",
       "      <td>1</td>\n",
       "      <td>49.0</td>\n",
       "      <td>91107</td>\n",
       "      <td>4</td>\n",
       "      <td>1.6</td>\n",
       "      <td>1</td>\n",
       "      <td>0</td>\n",
       "      <td>Home Owner</td>\n",
       "      <td>0</td>\n",
       "      <td>1</td>\n",
       "      <td>0</td>\n",
       "      <td>0.0</td>\n",
       "      <td>0</td>\n",
       "      <td>False</td>\n",
       "      <td>True</td>\n",
       "      <td>False</td>\n",
       "    </tr>\n",
       "    <tr>\n",
       "      <th>1</th>\n",
       "      <td>45</td>\n",
       "      <td>1</td>\n",
       "      <td>19</td>\n",
       "      <td>34.0</td>\n",
       "      <td>90089</td>\n",
       "      <td>3</td>\n",
       "      <td>1.5</td>\n",
       "      <td>1</td>\n",
       "      <td>0</td>\n",
       "      <td>Rent</td>\n",
       "      <td>0</td>\n",
       "      <td>1</td>\n",
       "      <td>0</td>\n",
       "      <td>0.0</td>\n",
       "      <td>0</td>\n",
       "      <td>False</td>\n",
       "      <td>True</td>\n",
       "      <td>False</td>\n",
       "    </tr>\n",
       "    <tr>\n",
       "      <th>2</th>\n",
       "      <td>39</td>\n",
       "      <td>1</td>\n",
       "      <td>15</td>\n",
       "      <td>11.0</td>\n",
       "      <td>94720</td>\n",
       "      <td>1</td>\n",
       "      <td>1.0</td>\n",
       "      <td>1</td>\n",
       "      <td>0</td>\n",
       "      <td>Rent</td>\n",
       "      <td>0</td>\n",
       "      <td>0</td>\n",
       "      <td>0</td>\n",
       "      <td>0.0</td>\n",
       "      <td>0</td>\n",
       "      <td>False</td>\n",
       "      <td>True</td>\n",
       "      <td>False</td>\n",
       "    </tr>\n",
       "    <tr>\n",
       "      <th>3</th>\n",
       "      <td>35</td>\n",
       "      <td>1</td>\n",
       "      <td>9</td>\n",
       "      <td>100.0</td>\n",
       "      <td>94112</td>\n",
       "      <td>1</td>\n",
       "      <td>2.7</td>\n",
       "      <td>2</td>\n",
       "      <td>0</td>\n",
       "      <td>Rent</td>\n",
       "      <td>0</td>\n",
       "      <td>0</td>\n",
       "      <td>0</td>\n",
       "      <td>0.0</td>\n",
       "      <td>0</td>\n",
       "      <td>False</td>\n",
       "      <td>True</td>\n",
       "      <td>False</td>\n",
       "    </tr>\n",
       "    <tr>\n",
       "      <th>4</th>\n",
       "      <td>35</td>\n",
       "      <td>1</td>\n",
       "      <td>8</td>\n",
       "      <td>45.0</td>\n",
       "      <td>91330</td>\n",
       "      <td>4</td>\n",
       "      <td>1.0</td>\n",
       "      <td>2</td>\n",
       "      <td>0</td>\n",
       "      <td>Rent</td>\n",
       "      <td>0</td>\n",
       "      <td>0</td>\n",
       "      <td>0</td>\n",
       "      <td>0.0</td>\n",
       "      <td>1</td>\n",
       "      <td>False</td>\n",
       "      <td>True</td>\n",
       "      <td>False</td>\n",
       "    </tr>\n",
       "    <tr>\n",
       "      <th>...</th>\n",
       "      <td>...</td>\n",
       "      <td>...</td>\n",
       "      <td>...</td>\n",
       "      <td>...</td>\n",
       "      <td>...</td>\n",
       "      <td>...</td>\n",
       "      <td>...</td>\n",
       "      <td>...</td>\n",
       "      <td>...</td>\n",
       "      <td>...</td>\n",
       "      <td>...</td>\n",
       "      <td>...</td>\n",
       "      <td>...</td>\n",
       "      <td>...</td>\n",
       "      <td>...</td>\n",
       "      <td>...</td>\n",
       "      <td>...</td>\n",
       "      <td>...</td>\n",
       "    </tr>\n",
       "    <tr>\n",
       "      <th>4995</th>\n",
       "      <td>29</td>\n",
       "      <td>0</td>\n",
       "      <td>3</td>\n",
       "      <td>40.0</td>\n",
       "      <td>92697</td>\n",
       "      <td>1</td>\n",
       "      <td>1.9</td>\n",
       "      <td>3</td>\n",
       "      <td>0</td>\n",
       "      <td>Others</td>\n",
       "      <td>0</td>\n",
       "      <td>0</td>\n",
       "      <td>0</td>\n",
       "      <td>1.0</td>\n",
       "      <td>0</td>\n",
       "      <td>True</td>\n",
       "      <td>False</td>\n",
       "      <td>False</td>\n",
       "    </tr>\n",
       "    <tr>\n",
       "      <th>4996</th>\n",
       "      <td>30</td>\n",
       "      <td>0</td>\n",
       "      <td>4</td>\n",
       "      <td>15.0</td>\n",
       "      <td>92037</td>\n",
       "      <td>4</td>\n",
       "      <td>0.4</td>\n",
       "      <td>1</td>\n",
       "      <td>85</td>\n",
       "      <td>Others</td>\n",
       "      <td>0</td>\n",
       "      <td>0</td>\n",
       "      <td>0</td>\n",
       "      <td>1.0</td>\n",
       "      <td>0</td>\n",
       "      <td>True</td>\n",
       "      <td>False</td>\n",
       "      <td>False</td>\n",
       "    </tr>\n",
       "    <tr>\n",
       "      <th>4997</th>\n",
       "      <td>63</td>\n",
       "      <td>0</td>\n",
       "      <td>39</td>\n",
       "      <td>24.0</td>\n",
       "      <td>93023</td>\n",
       "      <td>2</td>\n",
       "      <td>0.3</td>\n",
       "      <td>3</td>\n",
       "      <td>0</td>\n",
       "      <td>Others</td>\n",
       "      <td>0</td>\n",
       "      <td>0</td>\n",
       "      <td>0</td>\n",
       "      <td>0.0</td>\n",
       "      <td>0</td>\n",
       "      <td>True</td>\n",
       "      <td>False</td>\n",
       "      <td>False</td>\n",
       "    </tr>\n",
       "    <tr>\n",
       "      <th>4998</th>\n",
       "      <td>65</td>\n",
       "      <td>0</td>\n",
       "      <td>40</td>\n",
       "      <td>49.0</td>\n",
       "      <td>90034</td>\n",
       "      <td>3</td>\n",
       "      <td>0.5</td>\n",
       "      <td>2</td>\n",
       "      <td>0</td>\n",
       "      <td>Others</td>\n",
       "      <td>0</td>\n",
       "      <td>0</td>\n",
       "      <td>0</td>\n",
       "      <td>1.0</td>\n",
       "      <td>0</td>\n",
       "      <td>True</td>\n",
       "      <td>False</td>\n",
       "      <td>False</td>\n",
       "    </tr>\n",
       "    <tr>\n",
       "      <th>4999</th>\n",
       "      <td>28</td>\n",
       "      <td>0</td>\n",
       "      <td>4</td>\n",
       "      <td>83.0</td>\n",
       "      <td>92612</td>\n",
       "      <td>3</td>\n",
       "      <td>0.8</td>\n",
       "      <td>1</td>\n",
       "      <td>0</td>\n",
       "      <td>Others</td>\n",
       "      <td>0</td>\n",
       "      <td>0</td>\n",
       "      <td>0</td>\n",
       "      <td>1.0</td>\n",
       "      <td>1</td>\n",
       "      <td>True</td>\n",
       "      <td>False</td>\n",
       "      <td>False</td>\n",
       "    </tr>\n",
       "  </tbody>\n",
       "</table>\n",
       "<p>4994 rows × 18 columns</p>\n",
       "</div>"
      ],
      "text/plain": [
       "      Age  Gender  Experience  Income  ZIP Code  Family  CCAvg  Education  \\\n",
       "0      25       1           1    49.0     91107       4    1.6          1   \n",
       "1      45       1          19    34.0     90089       3    1.5          1   \n",
       "2      39       1          15    11.0     94720       1    1.0          1   \n",
       "3      35       1           9   100.0     94112       1    2.7          2   \n",
       "4      35       1           8    45.0     91330       4    1.0          2   \n",
       "...   ...     ...         ...     ...       ...     ...    ...        ...   \n",
       "4995   29       0           3    40.0     92697       1    1.9          3   \n",
       "4996   30       0           4    15.0     92037       4    0.4          1   \n",
       "4997   63       0          39    24.0     93023       2    0.3          3   \n",
       "4998   65       0          40    49.0     90034       3    0.5          2   \n",
       "4999   28       0           4    83.0     92612       3    0.8          1   \n",
       "\n",
       "      Mortgage Home Ownership  Personal Loan  Securities Account  CD Account  \\\n",
       "0            0     Home Owner              0                   1           0   \n",
       "1            0           Rent              0                   1           0   \n",
       "2            0           Rent              0                   0           0   \n",
       "3            0           Rent              0                   0           0   \n",
       "4            0           Rent              0                   0           0   \n",
       "...        ...            ...            ...                 ...         ...   \n",
       "4995         0         Others              0                   0           0   \n",
       "4996        85         Others              0                   0           0   \n",
       "4997         0         Others              0                   0           0   \n",
       "4998         0         Others              0                   0           0   \n",
       "4999         0         Others              0                   0           0   \n",
       "\n",
       "      Online  CreditCard  Other_Genders   Male  Female  \n",
       "0        0.0           0          False   True   False  \n",
       "1        0.0           0          False   True   False  \n",
       "2        0.0           0          False   True   False  \n",
       "3        0.0           0          False   True   False  \n",
       "4        0.0           1          False   True   False  \n",
       "...      ...         ...            ...    ...     ...  \n",
       "4995     1.0           0           True  False   False  \n",
       "4996     1.0           0           True  False   False  \n",
       "4997     0.0           0           True  False   False  \n",
       "4998     1.0           0           True  False   False  \n",
       "4999     1.0           1           True  False   False  \n",
       "\n",
       "[4994 rows x 18 columns]"
      ]
     },
     "execution_count": 54,
     "metadata": {},
     "output_type": "execute_result"
    }
   ],
   "source": [
    "data"
   ]
  },
  {
   "cell_type": "code",
   "execution_count": 55,
   "id": "643f4813-ec91-43bc-ab68-eb72cb083b30",
   "metadata": {},
   "outputs": [],
   "source": [
    "data.drop(columns=['Gender'], inplace=True)"
   ]
  },
  {
   "cell_type": "code",
   "execution_count": 56,
   "id": "4f1f7b97-2077-4c2c-a14d-bfd4c4fdfd6d",
   "metadata": {},
   "outputs": [],
   "source": [
    "data[['Other_Genders', 'Male', 'Female']] = data[['Other_Genders', 'Male', 'Female']].astype(int)"
   ]
  },
  {
   "cell_type": "code",
   "execution_count": 57,
   "id": "7711f8a4-293c-4667-9844-0db1d686a15a",
   "metadata": {},
   "outputs": [
    {
     "data": {
      "text/html": [
       "<div>\n",
       "<style scoped>\n",
       "    .dataframe tbody tr th:only-of-type {\n",
       "        vertical-align: middle;\n",
       "    }\n",
       "\n",
       "    .dataframe tbody tr th {\n",
       "        vertical-align: top;\n",
       "    }\n",
       "\n",
       "    .dataframe thead th {\n",
       "        text-align: right;\n",
       "    }\n",
       "</style>\n",
       "<table border=\"1\" class=\"dataframe\">\n",
       "  <thead>\n",
       "    <tr style=\"text-align: right;\">\n",
       "      <th></th>\n",
       "      <th>Other_Genders</th>\n",
       "      <th>Male</th>\n",
       "      <th>Female</th>\n",
       "    </tr>\n",
       "  </thead>\n",
       "  <tbody>\n",
       "    <tr>\n",
       "      <th>0</th>\n",
       "      <td>0</td>\n",
       "      <td>1</td>\n",
       "      <td>0</td>\n",
       "    </tr>\n",
       "    <tr>\n",
       "      <th>1</th>\n",
       "      <td>0</td>\n",
       "      <td>1</td>\n",
       "      <td>0</td>\n",
       "    </tr>\n",
       "    <tr>\n",
       "      <th>2</th>\n",
       "      <td>0</td>\n",
       "      <td>1</td>\n",
       "      <td>0</td>\n",
       "    </tr>\n",
       "    <tr>\n",
       "      <th>3</th>\n",
       "      <td>0</td>\n",
       "      <td>1</td>\n",
       "      <td>0</td>\n",
       "    </tr>\n",
       "    <tr>\n",
       "      <th>4</th>\n",
       "      <td>0</td>\n",
       "      <td>1</td>\n",
       "      <td>0</td>\n",
       "    </tr>\n",
       "    <tr>\n",
       "      <th>...</th>\n",
       "      <td>...</td>\n",
       "      <td>...</td>\n",
       "      <td>...</td>\n",
       "    </tr>\n",
       "    <tr>\n",
       "      <th>4995</th>\n",
       "      <td>1</td>\n",
       "      <td>0</td>\n",
       "      <td>0</td>\n",
       "    </tr>\n",
       "    <tr>\n",
       "      <th>4996</th>\n",
       "      <td>1</td>\n",
       "      <td>0</td>\n",
       "      <td>0</td>\n",
       "    </tr>\n",
       "    <tr>\n",
       "      <th>4997</th>\n",
       "      <td>1</td>\n",
       "      <td>0</td>\n",
       "      <td>0</td>\n",
       "    </tr>\n",
       "    <tr>\n",
       "      <th>4998</th>\n",
       "      <td>1</td>\n",
       "      <td>0</td>\n",
       "      <td>0</td>\n",
       "    </tr>\n",
       "    <tr>\n",
       "      <th>4999</th>\n",
       "      <td>1</td>\n",
       "      <td>0</td>\n",
       "      <td>0</td>\n",
       "    </tr>\n",
       "  </tbody>\n",
       "</table>\n",
       "<p>4994 rows × 3 columns</p>\n",
       "</div>"
      ],
      "text/plain": [
       "      Other_Genders  Male  Female\n",
       "0                 0     1       0\n",
       "1                 0     1       0\n",
       "2                 0     1       0\n",
       "3                 0     1       0\n",
       "4                 0     1       0\n",
       "...             ...   ...     ...\n",
       "4995              1     0       0\n",
       "4996              1     0       0\n",
       "4997              1     0       0\n",
       "4998              1     0       0\n",
       "4999              1     0       0\n",
       "\n",
       "[4994 rows x 3 columns]"
      ]
     },
     "execution_count": 57,
     "metadata": {},
     "output_type": "execute_result"
    }
   ],
   "source": [
    "data[['Other_Genders', 'Male', 'Female']]"
   ]
  },
  {
   "cell_type": "markdown",
   "id": "4d9936e9-86db-4b64-b887-d5e2f794b959",
   "metadata": {},
   "source": [
    "Now making the dummies for Home Ownership too"
   ]
  },
  {
   "cell_type": "code",
   "execution_count": 58,
   "id": "de431c93-d186-4fe8-809d-510b0dec20bd",
   "metadata": {},
   "outputs": [],
   "source": [
    "home_owner_dummies = pd.get_dummies(data['Home Ownership'])"
   ]
  },
  {
   "cell_type": "code",
   "execution_count": 59,
   "id": "efcddaaf-6bd8-430e-a44b-947c29f6aaf2",
   "metadata": {},
   "outputs": [],
   "source": [
    "home_owner_dummies.rename(columns={'Others': 'Other Home Ownership'},inplace=True)"
   ]
  },
  {
   "cell_type": "code",
   "execution_count": 60,
   "id": "62de777c-235d-41d1-a99f-f13b5bbff3ce",
   "metadata": {},
   "outputs": [],
   "source": [
    "data.drop(columns=['Home Ownership'], inplace=True)"
   ]
  },
  {
   "cell_type": "code",
   "execution_count": 61,
   "id": "9740e36e-604e-4f6c-9e41-8c30988a265a",
   "metadata": {},
   "outputs": [
    {
     "data": {
      "text/html": [
       "<div>\n",
       "<style scoped>\n",
       "    .dataframe tbody tr th:only-of-type {\n",
       "        vertical-align: middle;\n",
       "    }\n",
       "\n",
       "    .dataframe tbody tr th {\n",
       "        vertical-align: top;\n",
       "    }\n",
       "\n",
       "    .dataframe thead th {\n",
       "        text-align: right;\n",
       "    }\n",
       "</style>\n",
       "<table border=\"1\" class=\"dataframe\">\n",
       "  <thead>\n",
       "    <tr style=\"text-align: right;\">\n",
       "      <th></th>\n",
       "      <th>Home Mortage</th>\n",
       "      <th>Home Owner</th>\n",
       "      <th>Other Home Ownership</th>\n",
       "      <th>Rent</th>\n",
       "    </tr>\n",
       "  </thead>\n",
       "  <tbody>\n",
       "    <tr>\n",
       "      <th>0</th>\n",
       "      <td>False</td>\n",
       "      <td>True</td>\n",
       "      <td>False</td>\n",
       "      <td>False</td>\n",
       "    </tr>\n",
       "    <tr>\n",
       "      <th>1</th>\n",
       "      <td>False</td>\n",
       "      <td>False</td>\n",
       "      <td>False</td>\n",
       "      <td>True</td>\n",
       "    </tr>\n",
       "    <tr>\n",
       "      <th>2</th>\n",
       "      <td>False</td>\n",
       "      <td>False</td>\n",
       "      <td>False</td>\n",
       "      <td>True</td>\n",
       "    </tr>\n",
       "    <tr>\n",
       "      <th>3</th>\n",
       "      <td>False</td>\n",
       "      <td>False</td>\n",
       "      <td>False</td>\n",
       "      <td>True</td>\n",
       "    </tr>\n",
       "    <tr>\n",
       "      <th>4</th>\n",
       "      <td>False</td>\n",
       "      <td>False</td>\n",
       "      <td>False</td>\n",
       "      <td>True</td>\n",
       "    </tr>\n",
       "    <tr>\n",
       "      <th>...</th>\n",
       "      <td>...</td>\n",
       "      <td>...</td>\n",
       "      <td>...</td>\n",
       "      <td>...</td>\n",
       "    </tr>\n",
       "    <tr>\n",
       "      <th>4995</th>\n",
       "      <td>False</td>\n",
       "      <td>False</td>\n",
       "      <td>True</td>\n",
       "      <td>False</td>\n",
       "    </tr>\n",
       "    <tr>\n",
       "      <th>4996</th>\n",
       "      <td>False</td>\n",
       "      <td>False</td>\n",
       "      <td>True</td>\n",
       "      <td>False</td>\n",
       "    </tr>\n",
       "    <tr>\n",
       "      <th>4997</th>\n",
       "      <td>False</td>\n",
       "      <td>False</td>\n",
       "      <td>True</td>\n",
       "      <td>False</td>\n",
       "    </tr>\n",
       "    <tr>\n",
       "      <th>4998</th>\n",
       "      <td>False</td>\n",
       "      <td>False</td>\n",
       "      <td>True</td>\n",
       "      <td>False</td>\n",
       "    </tr>\n",
       "    <tr>\n",
       "      <th>4999</th>\n",
       "      <td>False</td>\n",
       "      <td>False</td>\n",
       "      <td>True</td>\n",
       "      <td>False</td>\n",
       "    </tr>\n",
       "  </tbody>\n",
       "</table>\n",
       "<p>4994 rows × 4 columns</p>\n",
       "</div>"
      ],
      "text/plain": [
       "      Home Mortage  Home Owner  Other Home Ownership   Rent\n",
       "0            False        True                 False  False\n",
       "1            False       False                 False   True\n",
       "2            False       False                 False   True\n",
       "3            False       False                 False   True\n",
       "4            False       False                 False   True\n",
       "...            ...         ...                   ...    ...\n",
       "4995         False       False                  True  False\n",
       "4996         False       False                  True  False\n",
       "4997         False       False                  True  False\n",
       "4998         False       False                  True  False\n",
       "4999         False       False                  True  False\n",
       "\n",
       "[4994 rows x 4 columns]"
      ]
     },
     "execution_count": 61,
     "metadata": {},
     "output_type": "execute_result"
    }
   ],
   "source": [
    "home_owner_dummies"
   ]
  },
  {
   "cell_type": "code",
   "execution_count": 62,
   "id": "38f554ce-1cfb-46ff-bc6a-be283b9a265e",
   "metadata": {},
   "outputs": [],
   "source": [
    "data = pd.concat([data, home_owner_dummies], axis=1)\n",
    "data[['Home Mortage', 'Home Owner','Other Home Ownership','Rent']] =data[['Home Mortage', 'Home Owner','Other Home Ownership','Rent']].astype(int)"
   ]
  },
  {
   "cell_type": "code",
   "execution_count": 63,
   "id": "81f3d9e6-f757-45d6-93d0-0d8999d20dd8",
   "metadata": {},
   "outputs": [
    {
     "data": {
      "text/html": [
       "<div>\n",
       "<style scoped>\n",
       "    .dataframe tbody tr th:only-of-type {\n",
       "        vertical-align: middle;\n",
       "    }\n",
       "\n",
       "    .dataframe tbody tr th {\n",
       "        vertical-align: top;\n",
       "    }\n",
       "\n",
       "    .dataframe thead th {\n",
       "        text-align: right;\n",
       "    }\n",
       "</style>\n",
       "<table border=\"1\" class=\"dataframe\">\n",
       "  <thead>\n",
       "    <tr style=\"text-align: right;\">\n",
       "      <th></th>\n",
       "      <th>Age</th>\n",
       "      <th>Experience</th>\n",
       "      <th>Income</th>\n",
       "      <th>ZIP Code</th>\n",
       "      <th>Family</th>\n",
       "      <th>CCAvg</th>\n",
       "      <th>Education</th>\n",
       "      <th>Mortgage</th>\n",
       "      <th>Personal Loan</th>\n",
       "      <th>Securities Account</th>\n",
       "      <th>CD Account</th>\n",
       "      <th>Online</th>\n",
       "      <th>CreditCard</th>\n",
       "      <th>Other_Genders</th>\n",
       "      <th>Male</th>\n",
       "      <th>Female</th>\n",
       "      <th>Home Mortage</th>\n",
       "      <th>Home Owner</th>\n",
       "      <th>Other Home Ownership</th>\n",
       "      <th>Rent</th>\n",
       "    </tr>\n",
       "  </thead>\n",
       "  <tbody>\n",
       "    <tr>\n",
       "      <th>0</th>\n",
       "      <td>25</td>\n",
       "      <td>1</td>\n",
       "      <td>49.0</td>\n",
       "      <td>91107</td>\n",
       "      <td>4</td>\n",
       "      <td>1.6</td>\n",
       "      <td>1</td>\n",
       "      <td>0</td>\n",
       "      <td>0</td>\n",
       "      <td>1</td>\n",
       "      <td>0</td>\n",
       "      <td>0.0</td>\n",
       "      <td>0</td>\n",
       "      <td>0</td>\n",
       "      <td>1</td>\n",
       "      <td>0</td>\n",
       "      <td>0</td>\n",
       "      <td>1</td>\n",
       "      <td>0</td>\n",
       "      <td>0</td>\n",
       "    </tr>\n",
       "    <tr>\n",
       "      <th>1</th>\n",
       "      <td>45</td>\n",
       "      <td>19</td>\n",
       "      <td>34.0</td>\n",
       "      <td>90089</td>\n",
       "      <td>3</td>\n",
       "      <td>1.5</td>\n",
       "      <td>1</td>\n",
       "      <td>0</td>\n",
       "      <td>0</td>\n",
       "      <td>1</td>\n",
       "      <td>0</td>\n",
       "      <td>0.0</td>\n",
       "      <td>0</td>\n",
       "      <td>0</td>\n",
       "      <td>1</td>\n",
       "      <td>0</td>\n",
       "      <td>0</td>\n",
       "      <td>0</td>\n",
       "      <td>0</td>\n",
       "      <td>1</td>\n",
       "    </tr>\n",
       "    <tr>\n",
       "      <th>2</th>\n",
       "      <td>39</td>\n",
       "      <td>15</td>\n",
       "      <td>11.0</td>\n",
       "      <td>94720</td>\n",
       "      <td>1</td>\n",
       "      <td>1.0</td>\n",
       "      <td>1</td>\n",
       "      <td>0</td>\n",
       "      <td>0</td>\n",
       "      <td>0</td>\n",
       "      <td>0</td>\n",
       "      <td>0.0</td>\n",
       "      <td>0</td>\n",
       "      <td>0</td>\n",
       "      <td>1</td>\n",
       "      <td>0</td>\n",
       "      <td>0</td>\n",
       "      <td>0</td>\n",
       "      <td>0</td>\n",
       "      <td>1</td>\n",
       "    </tr>\n",
       "    <tr>\n",
       "      <th>3</th>\n",
       "      <td>35</td>\n",
       "      <td>9</td>\n",
       "      <td>100.0</td>\n",
       "      <td>94112</td>\n",
       "      <td>1</td>\n",
       "      <td>2.7</td>\n",
       "      <td>2</td>\n",
       "      <td>0</td>\n",
       "      <td>0</td>\n",
       "      <td>0</td>\n",
       "      <td>0</td>\n",
       "      <td>0.0</td>\n",
       "      <td>0</td>\n",
       "      <td>0</td>\n",
       "      <td>1</td>\n",
       "      <td>0</td>\n",
       "      <td>0</td>\n",
       "      <td>0</td>\n",
       "      <td>0</td>\n",
       "      <td>1</td>\n",
       "    </tr>\n",
       "    <tr>\n",
       "      <th>4</th>\n",
       "      <td>35</td>\n",
       "      <td>8</td>\n",
       "      <td>45.0</td>\n",
       "      <td>91330</td>\n",
       "      <td>4</td>\n",
       "      <td>1.0</td>\n",
       "      <td>2</td>\n",
       "      <td>0</td>\n",
       "      <td>0</td>\n",
       "      <td>0</td>\n",
       "      <td>0</td>\n",
       "      <td>0.0</td>\n",
       "      <td>1</td>\n",
       "      <td>0</td>\n",
       "      <td>1</td>\n",
       "      <td>0</td>\n",
       "      <td>0</td>\n",
       "      <td>0</td>\n",
       "      <td>0</td>\n",
       "      <td>1</td>\n",
       "    </tr>\n",
       "  </tbody>\n",
       "</table>\n",
       "</div>"
      ],
      "text/plain": [
       "   Age  Experience  Income  ZIP Code  Family  CCAvg  Education  Mortgage  \\\n",
       "0   25           1    49.0     91107       4    1.6          1         0   \n",
       "1   45          19    34.0     90089       3    1.5          1         0   \n",
       "2   39          15    11.0     94720       1    1.0          1         0   \n",
       "3   35           9   100.0     94112       1    2.7          2         0   \n",
       "4   35           8    45.0     91330       4    1.0          2         0   \n",
       "\n",
       "   Personal Loan  Securities Account  CD Account  Online  CreditCard  \\\n",
       "0              0                   1           0     0.0           0   \n",
       "1              0                   1           0     0.0           0   \n",
       "2              0                   0           0     0.0           0   \n",
       "3              0                   0           0     0.0           0   \n",
       "4              0                   0           0     0.0           1   \n",
       "\n",
       "   Other_Genders  Male  Female  Home Mortage  Home Owner  \\\n",
       "0              0     1       0             0           1   \n",
       "1              0     1       0             0           0   \n",
       "2              0     1       0             0           0   \n",
       "3              0     1       0             0           0   \n",
       "4              0     1       0             0           0   \n",
       "\n",
       "   Other Home Ownership  Rent  \n",
       "0                     0     0  \n",
       "1                     0     1  \n",
       "2                     0     1  \n",
       "3                     0     1  \n",
       "4                     0     1  "
      ]
     },
     "execution_count": 63,
     "metadata": {},
     "output_type": "execute_result"
    }
   ],
   "source": [
    "data.head()"
   ]
  },
  {
   "cell_type": "code",
   "execution_count": 64,
   "id": "f700a6bf-a578-41d8-8b87-56eed1623202",
   "metadata": {},
   "outputs": [
    {
     "name": "stdout",
     "output_type": "stream",
     "text": [
      "<class 'pandas.core.frame.DataFrame'>\n",
      "Index: 4994 entries, 0 to 4999\n",
      "Data columns (total 20 columns):\n",
      " #   Column                Non-Null Count  Dtype  \n",
      "---  ------                --------------  -----  \n",
      " 0   Age                   4994 non-null   int64  \n",
      " 1   Experience            4994 non-null   int64  \n",
      " 2   Income                4994 non-null   float64\n",
      " 3   ZIP Code              4994 non-null   int64  \n",
      " 4   Family                4994 non-null   int64  \n",
      " 5   CCAvg                 4994 non-null   float64\n",
      " 6   Education             4994 non-null   int64  \n",
      " 7   Mortgage              4994 non-null   int64  \n",
      " 8   Personal Loan         4994 non-null   int32  \n",
      " 9   Securities Account    4994 non-null   int64  \n",
      " 10  CD Account            4994 non-null   int64  \n",
      " 11  Online                4994 non-null   float64\n",
      " 12  CreditCard            4994 non-null   int64  \n",
      " 13  Other_Genders         4994 non-null   int32  \n",
      " 14  Male                  4994 non-null   int32  \n",
      " 15  Female                4994 non-null   int32  \n",
      " 16  Home Mortage          4994 non-null   int32  \n",
      " 17  Home Owner            4994 non-null   int32  \n",
      " 18  Other Home Ownership  4994 non-null   int32  \n",
      " 19  Rent                  4994 non-null   int32  \n",
      "dtypes: float64(3), int32(8), int64(9)\n",
      "memory usage: 663.3 KB\n"
     ]
    }
   ],
   "source": [
    "data.info()"
   ]
  },
  {
   "cell_type": "markdown",
   "id": "7d476bf3-d79d-4eab-9fdf-7136b2d4e478",
   "metadata": {},
   "source": [
    "Now finding the correlation between the data"
   ]
  },
  {
   "cell_type": "code",
   "execution_count": 65,
   "id": "dd8c31e3-5d0b-4c86-b6d7-04c7135a3c00",
   "metadata": {},
   "outputs": [],
   "source": [
    "corr_data = data.corr()"
   ]
  },
  {
   "cell_type": "code",
   "execution_count": 66,
   "id": "0a065b90-54fd-47b0-a1a0-2865139f2e0c",
   "metadata": {},
   "outputs": [
    {
     "data": {
      "text/html": [
       "<div>\n",
       "<style scoped>\n",
       "    .dataframe tbody tr th:only-of-type {\n",
       "        vertical-align: middle;\n",
       "    }\n",
       "\n",
       "    .dataframe tbody tr th {\n",
       "        vertical-align: top;\n",
       "    }\n",
       "\n",
       "    .dataframe thead th {\n",
       "        text-align: right;\n",
       "    }\n",
       "</style>\n",
       "<table border=\"1\" class=\"dataframe\">\n",
       "  <thead>\n",
       "    <tr style=\"text-align: right;\">\n",
       "      <th></th>\n",
       "      <th>Age</th>\n",
       "      <th>Experience</th>\n",
       "      <th>Income</th>\n",
       "      <th>ZIP Code</th>\n",
       "      <th>Family</th>\n",
       "      <th>CCAvg</th>\n",
       "      <th>Education</th>\n",
       "      <th>Mortgage</th>\n",
       "      <th>Personal Loan</th>\n",
       "      <th>Securities Account</th>\n",
       "      <th>CD Account</th>\n",
       "      <th>Online</th>\n",
       "      <th>CreditCard</th>\n",
       "      <th>Other_Genders</th>\n",
       "      <th>Male</th>\n",
       "      <th>Female</th>\n",
       "      <th>Home Mortage</th>\n",
       "      <th>Home Owner</th>\n",
       "      <th>Other Home Ownership</th>\n",
       "      <th>Rent</th>\n",
       "    </tr>\n",
       "  </thead>\n",
       "  <tbody>\n",
       "    <tr>\n",
       "      <th>Age</th>\n",
       "      <td>1.000000</td>\n",
       "      <td>0.981417</td>\n",
       "      <td>-0.060752</td>\n",
       "      <td>-0.030234</td>\n",
       "      <td>-0.047851</td>\n",
       "      <td>-0.057489</td>\n",
       "      <td>0.041733</td>\n",
       "      <td>-0.011994</td>\n",
       "      <td>-0.019155</td>\n",
       "      <td>0.003012</td>\n",
       "      <td>0.006202</td>\n",
       "      <td>0.014705</td>\n",
       "      <td>0.008712</td>\n",
       "      <td>-0.014382</td>\n",
       "      <td>-0.000482</td>\n",
       "      <td>0.015110</td>\n",
       "      <td>0.000977</td>\n",
       "      <td>-0.020541</td>\n",
       "      <td>-0.005677</td>\n",
       "      <td>0.027082</td>\n",
       "    </tr>\n",
       "    <tr>\n",
       "      <th>Experience</th>\n",
       "      <td>0.981417</td>\n",
       "      <td>1.000000</td>\n",
       "      <td>-0.048130</td>\n",
       "      <td>-0.028754</td>\n",
       "      <td>-0.053061</td>\n",
       "      <td>-0.049753</td>\n",
       "      <td>0.014608</td>\n",
       "      <td>-0.009967</td>\n",
       "      <td>-0.006929</td>\n",
       "      <td>-0.001134</td>\n",
       "      <td>0.008831</td>\n",
       "      <td>0.013467</td>\n",
       "      <td>0.008234</td>\n",
       "      <td>-0.016713</td>\n",
       "      <td>-0.001232</td>\n",
       "      <td>0.018238</td>\n",
       "      <td>-0.002287</td>\n",
       "      <td>-0.022539</td>\n",
       "      <td>-0.006784</td>\n",
       "      <td>0.034380</td>\n",
       "    </tr>\n",
       "    <tr>\n",
       "      <th>Income</th>\n",
       "      <td>-0.060752</td>\n",
       "      <td>-0.048130</td>\n",
       "      <td>1.000000</td>\n",
       "      <td>-0.018681</td>\n",
       "      <td>-0.169574</td>\n",
       "      <td>0.597717</td>\n",
       "      <td>-0.211945</td>\n",
       "      <td>0.183262</td>\n",
       "      <td>0.365906</td>\n",
       "      <td>-0.004662</td>\n",
       "      <td>0.113372</td>\n",
       "      <td>-0.004686</td>\n",
       "      <td>-0.014273</td>\n",
       "      <td>-0.077467</td>\n",
       "      <td>0.047480</td>\n",
       "      <td>0.030793</td>\n",
       "      <td>0.027582</td>\n",
       "      <td>0.013808</td>\n",
       "      <td>-0.076629</td>\n",
       "      <td>0.035051</td>\n",
       "    </tr>\n",
       "    <tr>\n",
       "      <th>ZIP Code</th>\n",
       "      <td>-0.030234</td>\n",
       "      <td>-0.028754</td>\n",
       "      <td>-0.018681</td>\n",
       "      <td>1.000000</td>\n",
       "      <td>0.011538</td>\n",
       "      <td>-0.004265</td>\n",
       "      <td>-0.017156</td>\n",
       "      <td>0.009427</td>\n",
       "      <td>0.002178</td>\n",
       "      <td>0.004591</td>\n",
       "      <td>0.020891</td>\n",
       "      <td>0.015998</td>\n",
       "      <td>0.007965</td>\n",
       "      <td>0.005673</td>\n",
       "      <td>-0.014310</td>\n",
       "      <td>0.008690</td>\n",
       "      <td>-0.004253</td>\n",
       "      <td>0.007759</td>\n",
       "      <td>0.002589</td>\n",
       "      <td>-0.006015</td>\n",
       "    </tr>\n",
       "    <tr>\n",
       "      <th>Family</th>\n",
       "      <td>-0.047851</td>\n",
       "      <td>-0.053061</td>\n",
       "      <td>-0.169574</td>\n",
       "      <td>0.011538</td>\n",
       "      <td>1.000000</td>\n",
       "      <td>-0.109273</td>\n",
       "      <td>0.065625</td>\n",
       "      <td>-0.020222</td>\n",
       "      <td>0.059982</td>\n",
       "      <td>0.020104</td>\n",
       "      <td>0.013348</td>\n",
       "      <td>0.006677</td>\n",
       "      <td>0.011323</td>\n",
       "      <td>-0.000612</td>\n",
       "      <td>0.014332</td>\n",
       "      <td>-0.013859</td>\n",
       "      <td>0.004595</td>\n",
       "      <td>0.013463</td>\n",
       "      <td>-0.016360</td>\n",
       "      <td>-0.002263</td>\n",
       "    </tr>\n",
       "    <tr>\n",
       "      <th>CCAvg</th>\n",
       "      <td>-0.057489</td>\n",
       "      <td>-0.049753</td>\n",
       "      <td>0.597717</td>\n",
       "      <td>-0.004265</td>\n",
       "      <td>-0.109273</td>\n",
       "      <td>1.000000</td>\n",
       "      <td>-0.138112</td>\n",
       "      <td>0.111600</td>\n",
       "      <td>0.364586</td>\n",
       "      <td>0.015859</td>\n",
       "      <td>0.133256</td>\n",
       "      <td>-0.011936</td>\n",
       "      <td>-0.007847</td>\n",
       "      <td>-0.079311</td>\n",
       "      <td>0.047800</td>\n",
       "      <td>0.032346</td>\n",
       "      <td>0.020845</td>\n",
       "      <td>0.018310</td>\n",
       "      <td>-0.077008</td>\n",
       "      <td>0.038767</td>\n",
       "    </tr>\n",
       "    <tr>\n",
       "      <th>Education</th>\n",
       "      <td>0.041733</td>\n",
       "      <td>0.014608</td>\n",
       "      <td>-0.211945</td>\n",
       "      <td>-0.017156</td>\n",
       "      <td>0.065625</td>\n",
       "      <td>-0.138112</td>\n",
       "      <td>1.000000</td>\n",
       "      <td>-0.034161</td>\n",
       "      <td>0.136500</td>\n",
       "      <td>-0.010516</td>\n",
       "      <td>0.013970</td>\n",
       "      <td>-0.017911</td>\n",
       "      <td>-0.010580</td>\n",
       "      <td>-0.011808</td>\n",
       "      <td>0.013748</td>\n",
       "      <td>-0.001884</td>\n",
       "      <td>0.021086</td>\n",
       "      <td>0.004130</td>\n",
       "      <td>-0.005948</td>\n",
       "      <td>-0.023479</td>\n",
       "    </tr>\n",
       "    <tr>\n",
       "      <th>Mortgage</th>\n",
       "      <td>-0.011994</td>\n",
       "      <td>-0.009967</td>\n",
       "      <td>0.183262</td>\n",
       "      <td>0.009427</td>\n",
       "      <td>-0.020222</td>\n",
       "      <td>0.111600</td>\n",
       "      <td>-0.034161</td>\n",
       "      <td>1.000000</td>\n",
       "      <td>0.138207</td>\n",
       "      <td>-0.005111</td>\n",
       "      <td>0.091035</td>\n",
       "      <td>-0.009135</td>\n",
       "      <td>-0.006169</td>\n",
       "      <td>-0.049367</td>\n",
       "      <td>0.009733</td>\n",
       "      <td>0.040361</td>\n",
       "      <td>0.029384</td>\n",
       "      <td>0.026888</td>\n",
       "      <td>-0.041686</td>\n",
       "      <td>-0.019163</td>\n",
       "    </tr>\n",
       "    <tr>\n",
       "      <th>Personal Loan</th>\n",
       "      <td>-0.019155</td>\n",
       "      <td>-0.006929</td>\n",
       "      <td>0.365906</td>\n",
       "      <td>0.002178</td>\n",
       "      <td>0.059982</td>\n",
       "      <td>0.364586</td>\n",
       "      <td>0.136500</td>\n",
       "      <td>0.138207</td>\n",
       "      <td>1.000000</td>\n",
       "      <td>0.023602</td>\n",
       "      <td>0.315372</td>\n",
       "      <td>-0.023750</td>\n",
       "      <td>0.002943</td>\n",
       "      <td>-0.186511</td>\n",
       "      <td>0.129891</td>\n",
       "      <td>0.058401</td>\n",
       "      <td>0.077468</td>\n",
       "      <td>0.046393</td>\n",
       "      <td>-0.179206</td>\n",
       "      <td>0.051123</td>\n",
       "    </tr>\n",
       "    <tr>\n",
       "      <th>Securities Account</th>\n",
       "      <td>0.003012</td>\n",
       "      <td>-0.001134</td>\n",
       "      <td>-0.004662</td>\n",
       "      <td>0.004591</td>\n",
       "      <td>0.020104</td>\n",
       "      <td>0.015859</td>\n",
       "      <td>-0.010516</td>\n",
       "      <td>-0.005111</td>\n",
       "      <td>0.023602</td>\n",
       "      <td>1.000000</td>\n",
       "      <td>0.318528</td>\n",
       "      <td>0.013209</td>\n",
       "      <td>-0.015004</td>\n",
       "      <td>-0.011529</td>\n",
       "      <td>0.026675</td>\n",
       "      <td>-0.015229</td>\n",
       "      <td>0.008275</td>\n",
       "      <td>-0.032173</td>\n",
       "      <td>-0.011188</td>\n",
       "      <td>0.036756</td>\n",
       "    </tr>\n",
       "    <tr>\n",
       "      <th>CD Account</th>\n",
       "      <td>0.006202</td>\n",
       "      <td>0.008831</td>\n",
       "      <td>0.113372</td>\n",
       "      <td>0.020891</td>\n",
       "      <td>0.013348</td>\n",
       "      <td>0.133256</td>\n",
       "      <td>0.013970</td>\n",
       "      <td>0.091035</td>\n",
       "      <td>0.315372</td>\n",
       "      <td>0.318528</td>\n",
       "      <td>1.000000</td>\n",
       "      <td>0.156669</td>\n",
       "      <td>0.277118</td>\n",
       "      <td>-0.035637</td>\n",
       "      <td>0.036712</td>\n",
       "      <td>-0.000858</td>\n",
       "      <td>0.033237</td>\n",
       "      <td>-0.016754</td>\n",
       "      <td>-0.048328</td>\n",
       "      <td>0.030336</td>\n",
       "    </tr>\n",
       "    <tr>\n",
       "      <th>Online</th>\n",
       "      <td>0.014705</td>\n",
       "      <td>0.013467</td>\n",
       "      <td>-0.004686</td>\n",
       "      <td>0.015998</td>\n",
       "      <td>0.006677</td>\n",
       "      <td>-0.011936</td>\n",
       "      <td>-0.017911</td>\n",
       "      <td>-0.009135</td>\n",
       "      <td>-0.023750</td>\n",
       "      <td>0.013209</td>\n",
       "      <td>0.156669</td>\n",
       "      <td>1.000000</td>\n",
       "      <td>0.003382</td>\n",
       "      <td>0.008527</td>\n",
       "      <td>-0.002598</td>\n",
       "      <td>-0.006045</td>\n",
       "      <td>-0.017503</td>\n",
       "      <td>0.001075</td>\n",
       "      <td>0.015288</td>\n",
       "      <td>0.003400</td>\n",
       "    </tr>\n",
       "    <tr>\n",
       "      <th>CreditCard</th>\n",
       "      <td>0.008712</td>\n",
       "      <td>0.008234</td>\n",
       "      <td>-0.014273</td>\n",
       "      <td>0.007965</td>\n",
       "      <td>0.011323</td>\n",
       "      <td>-0.007847</td>\n",
       "      <td>-0.010580</td>\n",
       "      <td>-0.006169</td>\n",
       "      <td>0.002943</td>\n",
       "      <td>-0.015004</td>\n",
       "      <td>0.277118</td>\n",
       "      <td>0.003382</td>\n",
       "      <td>1.000000</td>\n",
       "      <td>0.021821</td>\n",
       "      <td>0.003270</td>\n",
       "      <td>-0.025491</td>\n",
       "      <td>0.024477</td>\n",
       "      <td>-0.015131</td>\n",
       "      <td>0.003602</td>\n",
       "      <td>-0.017237</td>\n",
       "    </tr>\n",
       "    <tr>\n",
       "      <th>Other_Genders</th>\n",
       "      <td>-0.014382</td>\n",
       "      <td>-0.016713</td>\n",
       "      <td>-0.077467</td>\n",
       "      <td>0.005673</td>\n",
       "      <td>-0.000612</td>\n",
       "      <td>-0.079311</td>\n",
       "      <td>-0.011808</td>\n",
       "      <td>-0.049367</td>\n",
       "      <td>-0.186511</td>\n",
       "      <td>-0.011529</td>\n",
       "      <td>-0.035637</td>\n",
       "      <td>0.008527</td>\n",
       "      <td>0.021821</td>\n",
       "      <td>1.000000</td>\n",
       "      <td>-0.513301</td>\n",
       "      <td>-0.498144</td>\n",
       "      <td>-0.204723</td>\n",
       "      <td>-0.141867</td>\n",
       "      <td>0.618175</td>\n",
       "      <td>-0.271478</td>\n",
       "    </tr>\n",
       "    <tr>\n",
       "      <th>Male</th>\n",
       "      <td>-0.000482</td>\n",
       "      <td>-0.001232</td>\n",
       "      <td>0.047480</td>\n",
       "      <td>-0.014310</td>\n",
       "      <td>0.014332</td>\n",
       "      <td>0.047800</td>\n",
       "      <td>0.013748</td>\n",
       "      <td>0.009733</td>\n",
       "      <td>0.129891</td>\n",
       "      <td>0.026675</td>\n",
       "      <td>0.036712</td>\n",
       "      <td>-0.002598</td>\n",
       "      <td>0.003270</td>\n",
       "      <td>-0.513301</td>\n",
       "      <td>1.000000</td>\n",
       "      <td>-0.488449</td>\n",
       "      <td>0.130531</td>\n",
       "      <td>0.013388</td>\n",
       "      <td>-0.287991</td>\n",
       "      <td>0.140650</td>\n",
       "    </tr>\n",
       "    <tr>\n",
       "      <th>Female</th>\n",
       "      <td>0.015110</td>\n",
       "      <td>0.018238</td>\n",
       "      <td>0.030793</td>\n",
       "      <td>0.008690</td>\n",
       "      <td>-0.013859</td>\n",
       "      <td>0.032346</td>\n",
       "      <td>-0.001884</td>\n",
       "      <td>0.040361</td>\n",
       "      <td>0.058401</td>\n",
       "      <td>-0.015229</td>\n",
       "      <td>-0.000858</td>\n",
       "      <td>-0.006045</td>\n",
       "      <td>-0.025491</td>\n",
       "      <td>-0.498144</td>\n",
       "      <td>-0.488449</td>\n",
       "      <td>1.000000</td>\n",
       "      <td>0.076272</td>\n",
       "      <td>0.130719</td>\n",
       "      <td>-0.337563</td>\n",
       "      <td>0.133921</td>\n",
       "    </tr>\n",
       "    <tr>\n",
       "      <th>Home Mortage</th>\n",
       "      <td>0.000977</td>\n",
       "      <td>-0.002287</td>\n",
       "      <td>0.027582</td>\n",
       "      <td>-0.004253</td>\n",
       "      <td>0.004595</td>\n",
       "      <td>0.020845</td>\n",
       "      <td>0.021086</td>\n",
       "      <td>0.029384</td>\n",
       "      <td>0.077468</td>\n",
       "      <td>0.008275</td>\n",
       "      <td>0.033237</td>\n",
       "      <td>-0.017503</td>\n",
       "      <td>0.024477</td>\n",
       "      <td>-0.204723</td>\n",
       "      <td>0.130531</td>\n",
       "      <td>0.076272</td>\n",
       "      <td>1.000000</td>\n",
       "      <td>-0.394571</td>\n",
       "      <td>-0.402121</td>\n",
       "      <td>-0.347978</td>\n",
       "    </tr>\n",
       "    <tr>\n",
       "      <th>Home Owner</th>\n",
       "      <td>-0.020541</td>\n",
       "      <td>-0.022539</td>\n",
       "      <td>0.013808</td>\n",
       "      <td>0.007759</td>\n",
       "      <td>0.013463</td>\n",
       "      <td>0.018310</td>\n",
       "      <td>0.004130</td>\n",
       "      <td>0.026888</td>\n",
       "      <td>0.046393</td>\n",
       "      <td>-0.032173</td>\n",
       "      <td>-0.016754</td>\n",
       "      <td>0.001075</td>\n",
       "      <td>-0.015131</td>\n",
       "      <td>-0.141867</td>\n",
       "      <td>0.013388</td>\n",
       "      <td>0.130719</td>\n",
       "      <td>-0.394571</td>\n",
       "      <td>1.000000</td>\n",
       "      <td>-0.306617</td>\n",
       "      <td>-0.265332</td>\n",
       "    </tr>\n",
       "    <tr>\n",
       "      <th>Other Home Ownership</th>\n",
       "      <td>-0.005677</td>\n",
       "      <td>-0.006784</td>\n",
       "      <td>-0.076629</td>\n",
       "      <td>0.002589</td>\n",
       "      <td>-0.016360</td>\n",
       "      <td>-0.077008</td>\n",
       "      <td>-0.005948</td>\n",
       "      <td>-0.041686</td>\n",
       "      <td>-0.179206</td>\n",
       "      <td>-0.011188</td>\n",
       "      <td>-0.048328</td>\n",
       "      <td>0.015288</td>\n",
       "      <td>0.003602</td>\n",
       "      <td>0.618175</td>\n",
       "      <td>-0.287991</td>\n",
       "      <td>-0.337563</td>\n",
       "      <td>-0.402121</td>\n",
       "      <td>-0.306617</td>\n",
       "      <td>1.000000</td>\n",
       "      <td>-0.270410</td>\n",
       "    </tr>\n",
       "    <tr>\n",
       "      <th>Rent</th>\n",
       "      <td>0.027082</td>\n",
       "      <td>0.034380</td>\n",
       "      <td>0.035051</td>\n",
       "      <td>-0.006015</td>\n",
       "      <td>-0.002263</td>\n",
       "      <td>0.038767</td>\n",
       "      <td>-0.023479</td>\n",
       "      <td>-0.019163</td>\n",
       "      <td>0.051123</td>\n",
       "      <td>0.036756</td>\n",
       "      <td>0.030336</td>\n",
       "      <td>0.003400</td>\n",
       "      <td>-0.017237</td>\n",
       "      <td>-0.271478</td>\n",
       "      <td>0.140650</td>\n",
       "      <td>0.133921</td>\n",
       "      <td>-0.347978</td>\n",
       "      <td>-0.265332</td>\n",
       "      <td>-0.270410</td>\n",
       "      <td>1.000000</td>\n",
       "    </tr>\n",
       "  </tbody>\n",
       "</table>\n",
       "</div>"
      ],
      "text/plain": [
       "                           Age  Experience    Income  ZIP Code    Family  \\\n",
       "Age                   1.000000    0.981417 -0.060752 -0.030234 -0.047851   \n",
       "Experience            0.981417    1.000000 -0.048130 -0.028754 -0.053061   \n",
       "Income               -0.060752   -0.048130  1.000000 -0.018681 -0.169574   \n",
       "ZIP Code             -0.030234   -0.028754 -0.018681  1.000000  0.011538   \n",
       "Family               -0.047851   -0.053061 -0.169574  0.011538  1.000000   \n",
       "CCAvg                -0.057489   -0.049753  0.597717 -0.004265 -0.109273   \n",
       "Education             0.041733    0.014608 -0.211945 -0.017156  0.065625   \n",
       "Mortgage             -0.011994   -0.009967  0.183262  0.009427 -0.020222   \n",
       "Personal Loan        -0.019155   -0.006929  0.365906  0.002178  0.059982   \n",
       "Securities Account    0.003012   -0.001134 -0.004662  0.004591  0.020104   \n",
       "CD Account            0.006202    0.008831  0.113372  0.020891  0.013348   \n",
       "Online                0.014705    0.013467 -0.004686  0.015998  0.006677   \n",
       "CreditCard            0.008712    0.008234 -0.014273  0.007965  0.011323   \n",
       "Other_Genders        -0.014382   -0.016713 -0.077467  0.005673 -0.000612   \n",
       "Male                 -0.000482   -0.001232  0.047480 -0.014310  0.014332   \n",
       "Female                0.015110    0.018238  0.030793  0.008690 -0.013859   \n",
       "Home Mortage          0.000977   -0.002287  0.027582 -0.004253  0.004595   \n",
       "Home Owner           -0.020541   -0.022539  0.013808  0.007759  0.013463   \n",
       "Other Home Ownership -0.005677   -0.006784 -0.076629  0.002589 -0.016360   \n",
       "Rent                  0.027082    0.034380  0.035051 -0.006015 -0.002263   \n",
       "\n",
       "                         CCAvg  Education  Mortgage  Personal Loan  \\\n",
       "Age                  -0.057489   0.041733 -0.011994      -0.019155   \n",
       "Experience           -0.049753   0.014608 -0.009967      -0.006929   \n",
       "Income                0.597717  -0.211945  0.183262       0.365906   \n",
       "ZIP Code             -0.004265  -0.017156  0.009427       0.002178   \n",
       "Family               -0.109273   0.065625 -0.020222       0.059982   \n",
       "CCAvg                 1.000000  -0.138112  0.111600       0.364586   \n",
       "Education            -0.138112   1.000000 -0.034161       0.136500   \n",
       "Mortgage              0.111600  -0.034161  1.000000       0.138207   \n",
       "Personal Loan         0.364586   0.136500  0.138207       1.000000   \n",
       "Securities Account    0.015859  -0.010516 -0.005111       0.023602   \n",
       "CD Account            0.133256   0.013970  0.091035       0.315372   \n",
       "Online               -0.011936  -0.017911 -0.009135      -0.023750   \n",
       "CreditCard           -0.007847  -0.010580 -0.006169       0.002943   \n",
       "Other_Genders        -0.079311  -0.011808 -0.049367      -0.186511   \n",
       "Male                  0.047800   0.013748  0.009733       0.129891   \n",
       "Female                0.032346  -0.001884  0.040361       0.058401   \n",
       "Home Mortage          0.020845   0.021086  0.029384       0.077468   \n",
       "Home Owner            0.018310   0.004130  0.026888       0.046393   \n",
       "Other Home Ownership -0.077008  -0.005948 -0.041686      -0.179206   \n",
       "Rent                  0.038767  -0.023479 -0.019163       0.051123   \n",
       "\n",
       "                      Securities Account  CD Account    Online  CreditCard  \\\n",
       "Age                             0.003012    0.006202  0.014705    0.008712   \n",
       "Experience                     -0.001134    0.008831  0.013467    0.008234   \n",
       "Income                         -0.004662    0.113372 -0.004686   -0.014273   \n",
       "ZIP Code                        0.004591    0.020891  0.015998    0.007965   \n",
       "Family                          0.020104    0.013348  0.006677    0.011323   \n",
       "CCAvg                           0.015859    0.133256 -0.011936   -0.007847   \n",
       "Education                      -0.010516    0.013970 -0.017911   -0.010580   \n",
       "Mortgage                       -0.005111    0.091035 -0.009135   -0.006169   \n",
       "Personal Loan                   0.023602    0.315372 -0.023750    0.002943   \n",
       "Securities Account              1.000000    0.318528  0.013209   -0.015004   \n",
       "CD Account                      0.318528    1.000000  0.156669    0.277118   \n",
       "Online                          0.013209    0.156669  1.000000    0.003382   \n",
       "CreditCard                     -0.015004    0.277118  0.003382    1.000000   \n",
       "Other_Genders                  -0.011529   -0.035637  0.008527    0.021821   \n",
       "Male                            0.026675    0.036712 -0.002598    0.003270   \n",
       "Female                         -0.015229   -0.000858 -0.006045   -0.025491   \n",
       "Home Mortage                    0.008275    0.033237 -0.017503    0.024477   \n",
       "Home Owner                     -0.032173   -0.016754  0.001075   -0.015131   \n",
       "Other Home Ownership           -0.011188   -0.048328  0.015288    0.003602   \n",
       "Rent                            0.036756    0.030336  0.003400   -0.017237   \n",
       "\n",
       "                      Other_Genders      Male    Female  Home Mortage  \\\n",
       "Age                       -0.014382 -0.000482  0.015110      0.000977   \n",
       "Experience                -0.016713 -0.001232  0.018238     -0.002287   \n",
       "Income                    -0.077467  0.047480  0.030793      0.027582   \n",
       "ZIP Code                   0.005673 -0.014310  0.008690     -0.004253   \n",
       "Family                    -0.000612  0.014332 -0.013859      0.004595   \n",
       "CCAvg                     -0.079311  0.047800  0.032346      0.020845   \n",
       "Education                 -0.011808  0.013748 -0.001884      0.021086   \n",
       "Mortgage                  -0.049367  0.009733  0.040361      0.029384   \n",
       "Personal Loan             -0.186511  0.129891  0.058401      0.077468   \n",
       "Securities Account        -0.011529  0.026675 -0.015229      0.008275   \n",
       "CD Account                -0.035637  0.036712 -0.000858      0.033237   \n",
       "Online                     0.008527 -0.002598 -0.006045     -0.017503   \n",
       "CreditCard                 0.021821  0.003270 -0.025491      0.024477   \n",
       "Other_Genders              1.000000 -0.513301 -0.498144     -0.204723   \n",
       "Male                      -0.513301  1.000000 -0.488449      0.130531   \n",
       "Female                    -0.498144 -0.488449  1.000000      0.076272   \n",
       "Home Mortage              -0.204723  0.130531  0.076272      1.000000   \n",
       "Home Owner                -0.141867  0.013388  0.130719     -0.394571   \n",
       "Other Home Ownership       0.618175 -0.287991 -0.337563     -0.402121   \n",
       "Rent                      -0.271478  0.140650  0.133921     -0.347978   \n",
       "\n",
       "                      Home Owner  Other Home Ownership      Rent  \n",
       "Age                    -0.020541             -0.005677  0.027082  \n",
       "Experience             -0.022539             -0.006784  0.034380  \n",
       "Income                  0.013808             -0.076629  0.035051  \n",
       "ZIP Code                0.007759              0.002589 -0.006015  \n",
       "Family                  0.013463             -0.016360 -0.002263  \n",
       "CCAvg                   0.018310             -0.077008  0.038767  \n",
       "Education               0.004130             -0.005948 -0.023479  \n",
       "Mortgage                0.026888             -0.041686 -0.019163  \n",
       "Personal Loan           0.046393             -0.179206  0.051123  \n",
       "Securities Account     -0.032173             -0.011188  0.036756  \n",
       "CD Account             -0.016754             -0.048328  0.030336  \n",
       "Online                  0.001075              0.015288  0.003400  \n",
       "CreditCard             -0.015131              0.003602 -0.017237  \n",
       "Other_Genders          -0.141867              0.618175 -0.271478  \n",
       "Male                    0.013388             -0.287991  0.140650  \n",
       "Female                  0.130719             -0.337563  0.133921  \n",
       "Home Mortage           -0.394571             -0.402121 -0.347978  \n",
       "Home Owner              1.000000             -0.306617 -0.265332  \n",
       "Other Home Ownership   -0.306617              1.000000 -0.270410  \n",
       "Rent                   -0.265332             -0.270410  1.000000  "
      ]
     },
     "execution_count": 66,
     "metadata": {},
     "output_type": "execute_result"
    }
   ],
   "source": [
    "corr_data"
   ]
  },
  {
   "cell_type": "markdown",
   "id": "204cfe40-faf1-4d2d-8c27-dce75ad68a04",
   "metadata": {},
   "source": [
    "Now visualizing the correlated data"
   ]
  },
  {
   "cell_type": "code",
   "execution_count": 68,
   "id": "44bbb16b-1c58-44f9-8def-de398e1ab72b",
   "metadata": {},
   "outputs": [
    {
     "data": {
      "text/plain": [
       "<Axes: >"
      ]
     },
     "execution_count": 68,
     "metadata": {},
     "output_type": "execute_result"
    },
    {
     "data": {
      "image/png": "[encoded data removed]",
      "text/plain": [
       "<Figure size 1500x1000 with 2 Axes>"
      ]
     },
     "metadata": {},
     "output_type": "display_data"
    }
   ],
   "source": [
    "plt.figure(figsize=(15,10))\n",
    "sns.heatmap(corr_data, cmap='jet',annot=True)   "
   ]
  },
  {
   "cell_type": "markdown",
   "id": "e5579fb7-75f0-43af-84d1-0d80d64554fb",
   "metadata": {},
   "source": [
    "From the above correlation data plot, we can find \n",
    "1. personal loan is highly correlated with income, CCAvg, and CD amount an dnegative correlation wiht Other_Genders and Other Home Ownership\n",
    "2. Experience and Age are highly correlated with each other  i.e 0.98\n",
    "3. Income and CCAvg are positively correlated with eachother\n",
    "4. Income have high negative correlation with family and education\n",
    "Here zip code is not much related to any data so we can remove as it is no contributing on model prediction."
   ]
  },
  {
   "cell_type": "code",
   "execution_count": 69,
   "id": "da537634-41f3-46bb-9d06-c22ea0c4b276",
   "metadata": {},
   "outputs": [],
   "source": [
    "data.drop('ZIP Code',inplace=True,axis=1)"
   ]
  },
  {
   "cell_type": "code",
   "execution_count": 70,
   "id": "697278cd-17c6-49fa-8026-2c838a067ba1",
   "metadata": {},
   "outputs": [
    {
     "data": {
      "text/html": [
       "<div>\n",
       "<style scoped>\n",
       "    .dataframe tbody tr th:only-of-type {\n",
       "        vertical-align: middle;\n",
       "    }\n",
       "\n",
       "    .dataframe tbody tr th {\n",
       "        vertical-align: top;\n",
       "    }\n",
       "\n",
       "    .dataframe thead th {\n",
       "        text-align: right;\n",
       "    }\n",
       "</style>\n",
       "<table border=\"1\" class=\"dataframe\">\n",
       "  <thead>\n",
       "    <tr style=\"text-align: right;\">\n",
       "      <th></th>\n",
       "      <th>Age</th>\n",
       "      <th>Experience</th>\n",
       "      <th>Income</th>\n",
       "      <th>Family</th>\n",
       "      <th>CCAvg</th>\n",
       "      <th>Education</th>\n",
       "      <th>Mortgage</th>\n",
       "      <th>Personal Loan</th>\n",
       "      <th>Securities Account</th>\n",
       "      <th>CD Account</th>\n",
       "      <th>Online</th>\n",
       "      <th>CreditCard</th>\n",
       "      <th>Other_Genders</th>\n",
       "      <th>Male</th>\n",
       "      <th>Female</th>\n",
       "      <th>Home Mortage</th>\n",
       "      <th>Home Owner</th>\n",
       "      <th>Other Home Ownership</th>\n",
       "      <th>Rent</th>\n",
       "    </tr>\n",
       "  </thead>\n",
       "  <tbody>\n",
       "    <tr>\n",
       "      <th>0</th>\n",
       "      <td>25</td>\n",
       "      <td>1</td>\n",
       "      <td>49.0</td>\n",
       "      <td>4</td>\n",
       "      <td>1.6</td>\n",
       "      <td>1</td>\n",
       "      <td>0</td>\n",
       "      <td>0</td>\n",
       "      <td>1</td>\n",
       "      <td>0</td>\n",
       "      <td>0.0</td>\n",
       "      <td>0</td>\n",
       "      <td>0</td>\n",
       "      <td>1</td>\n",
       "      <td>0</td>\n",
       "      <td>0</td>\n",
       "      <td>1</td>\n",
       "      <td>0</td>\n",
       "      <td>0</td>\n",
       "    </tr>\n",
       "    <tr>\n",
       "      <th>1</th>\n",
       "      <td>45</td>\n",
       "      <td>19</td>\n",
       "      <td>34.0</td>\n",
       "      <td>3</td>\n",
       "      <td>1.5</td>\n",
       "      <td>1</td>\n",
       "      <td>0</td>\n",
       "      <td>0</td>\n",
       "      <td>1</td>\n",
       "      <td>0</td>\n",
       "      <td>0.0</td>\n",
       "      <td>0</td>\n",
       "      <td>0</td>\n",
       "      <td>1</td>\n",
       "      <td>0</td>\n",
       "      <td>0</td>\n",
       "      <td>0</td>\n",
       "      <td>0</td>\n",
       "      <td>1</td>\n",
       "    </tr>\n",
       "    <tr>\n",
       "      <th>2</th>\n",
       "      <td>39</td>\n",
       "      <td>15</td>\n",
       "      <td>11.0</td>\n",
       "      <td>1</td>\n",
       "      <td>1.0</td>\n",
       "      <td>1</td>\n",
       "      <td>0</td>\n",
       "      <td>0</td>\n",
       "      <td>0</td>\n",
       "      <td>0</td>\n",
       "      <td>0.0</td>\n",
       "      <td>0</td>\n",
       "      <td>0</td>\n",
       "      <td>1</td>\n",
       "      <td>0</td>\n",
       "      <td>0</td>\n",
       "      <td>0</td>\n",
       "      <td>0</td>\n",
       "      <td>1</td>\n",
       "    </tr>\n",
       "    <tr>\n",
       "      <th>3</th>\n",
       "      <td>35</td>\n",
       "      <td>9</td>\n",
       "      <td>100.0</td>\n",
       "      <td>1</td>\n",
       "      <td>2.7</td>\n",
       "      <td>2</td>\n",
       "      <td>0</td>\n",
       "      <td>0</td>\n",
       "      <td>0</td>\n",
       "      <td>0</td>\n",
       "      <td>0.0</td>\n",
       "      <td>0</td>\n",
       "      <td>0</td>\n",
       "      <td>1</td>\n",
       "      <td>0</td>\n",
       "      <td>0</td>\n",
       "      <td>0</td>\n",
       "      <td>0</td>\n",
       "      <td>1</td>\n",
       "    </tr>\n",
       "    <tr>\n",
       "      <th>4</th>\n",
       "      <td>35</td>\n",
       "      <td>8</td>\n",
       "      <td>45.0</td>\n",
       "      <td>4</td>\n",
       "      <td>1.0</td>\n",
       "      <td>2</td>\n",
       "      <td>0</td>\n",
       "      <td>0</td>\n",
       "      <td>0</td>\n",
       "      <td>0</td>\n",
       "      <td>0.0</td>\n",
       "      <td>1</td>\n",
       "      <td>0</td>\n",
       "      <td>1</td>\n",
       "      <td>0</td>\n",
       "      <td>0</td>\n",
       "      <td>0</td>\n",
       "      <td>0</td>\n",
       "      <td>1</td>\n",
       "    </tr>\n",
       "  </tbody>\n",
       "</table>\n",
       "</div>"
      ],
      "text/plain": [
       "   Age  Experience  Income  Family  CCAvg  Education  Mortgage  Personal Loan  \\\n",
       "0   25           1    49.0       4    1.6          1         0              0   \n",
       "1   45          19    34.0       3    1.5          1         0              0   \n",
       "2   39          15    11.0       1    1.0          1         0              0   \n",
       "3   35           9   100.0       1    2.7          2         0              0   \n",
       "4   35           8    45.0       4    1.0          2         0              0   \n",
       "\n",
       "   Securities Account  CD Account  Online  CreditCard  Other_Genders  Male  \\\n",
       "0                   1           0     0.0           0              0     1   \n",
       "1                   1           0     0.0           0              0     1   \n",
       "2                   0           0     0.0           0              0     1   \n",
       "3                   0           0     0.0           0              0     1   \n",
       "4                   0           0     0.0           1              0     1   \n",
       "\n",
       "   Female  Home Mortage  Home Owner  Other Home Ownership  Rent  \n",
       "0       0             0           1                     0     0  \n",
       "1       0             0           0                     0     1  \n",
       "2       0             0           0                     0     1  \n",
       "3       0             0           0                     0     1  \n",
       "4       0             0           0                     0     1  "
      ]
     },
     "execution_count": 70,
     "metadata": {},
     "output_type": "execute_result"
    }
   ],
   "source": [
    "data.head()"
   ]
  },
  {
   "cell_type": "code",
   "execution_count": 71,
   "id": "5547c821-3883-4ca0-9fc6-1256e060056e",
   "metadata": {},
   "outputs": [
    {
     "data": {
      "text/plain": [
       "<Axes: xlabel='Age', ylabel='Experience'>"
      ]
     },
     "execution_count": 71,
     "metadata": {},
     "output_type": "execute_result"
    },
    {
     "data": {
      "image/png": "[encoded data removed]",
      "text/plain": [
       "<Figure size 640x480 with 1 Axes>"
      ]
     },
     "metadata": {},
     "output_type": "display_data"
    }
   ],
   "source": [
    "sns.scatterplot(x='Age',y='Experience',data=data)"
   ]
  },
  {
   "cell_type": "code",
   "execution_count": 72,
   "id": "802941b2-109d-486b-a679-c7ce4b66ece3",
   "metadata": {},
   "outputs": [
    {
     "data": {
      "text/plain": [
       "<Axes: xlabel='Income', ylabel='CCAvg'>"
      ]
     },
     "execution_count": 72,
     "metadata": {},
     "output_type": "execute_result"
    },
    {
     "data": {
      "image/png": "[encoded data removed]",
      "text/plain": [
       "<Figure size 640x480 with 1 Axes>"
      ]
     },
     "metadata": {},
     "output_type": "display_data"
    }
   ],
   "source": [
    "sns.scatterplot(x='Income',y='CCAvg',data=data)"
   ]
  },
  {
   "cell_type": "code",
   "execution_count": 73,
   "id": "4e2e0ede-a010-4e67-a0bb-17971e97182c",
   "metadata": {},
   "outputs": [
    {
     "data": {
      "text/plain": [
       "<Axes: xlabel='Education', ylabel='count'>"
      ]
     },
     "execution_count": 73,
     "metadata": {},
     "output_type": "execute_result"
    },
    {
     "data": {
      "image/png": "[encoded data removed]",
      "text/plain": [
       "<Figure size 640x480 with 1 Axes>"
      ]
     },
     "metadata": {},
     "output_type": "display_data"
    }
   ],
   "source": [
    "sns.countplot(data=data, x= data['Education'].sort_values(ascending=True),hue='Personal Loan',palette='coolwarm')"
   ]
  },
  {
   "cell_type": "code",
   "execution_count": 74,
   "id": "76b64014-2c75-44e1-b721-2496fc1aa343",
   "metadata": {},
   "outputs": [
    {
     "data": {
      "text/plain": [
       "\"Education level (1: bachelor's degree, 2: master's degree, 3:advanced/professional degree)\""
      ]
     },
     "execution_count": 74,
     "metadata": {},
     "output_type": "execute_result"
    }
   ],
   "source": [
    "fetch_desctipt('Education')"
   ]
  },
  {
   "cell_type": "markdown",
   "id": "a39191ba-d243-485a-80dd-c8d1af36cd34",
   "metadata": {},
   "source": [
    "Hence, educated people have more personal loan"
   ]
  },
  {
   "cell_type": "code",
   "execution_count": 75,
   "id": "bfe07aba-dd31-48a3-a370-24621a8e536a",
   "metadata": {},
   "outputs": [
    {
     "data": {
      "text/plain": [
       "<Axes: xlabel='Education', ylabel='Income'>"
      ]
     },
     "execution_count": 75,
     "metadata": {},
     "output_type": "execute_result"
    },
    {
     "data": {
      "image/png": "[encoded data removed]",
      "text/plain": [
       "<Figure size 640x480 with 1 Axes>"
      ]
     },
     "metadata": {},
     "output_type": "display_data"
    }
   ],
   "source": [
    "sns.histplot(x='Education',y='Income',data=data,hue='Personal Loan')"
   ]
  },
  {
   "cell_type": "markdown",
   "id": "038817ea-d179-429f-a1d0-6c9c19f6420b",
   "metadata": {},
   "source": [
    "Now data preprocessing "
   ]
  },
  {
   "cell_type": "code",
   "execution_count": 76,
   "id": "6930d7b2-fe3b-4d39-b8f4-06aaa83b00a2",
   "metadata": {},
   "outputs": [],
   "source": [
    "from sklearn.model_selection import train_test_split"
   ]
  },
  {
   "cell_type": "markdown",
   "id": "348c58a2-07eb-412f-8923-be956eef5cb4",
   "metadata": {},
   "source": [
    "Now setting X and y variable for training and testing data "
   ]
  },
  {
   "cell_type": "code",
   "execution_count": 77,
   "id": "98b11c27-9dd4-4a5b-8177-8ec7d00e3c58",
   "metadata": {},
   "outputs": [],
   "source": [
    "X = data.drop('Personal Loan',axis=1).values\n",
    "y = data['Personal Loan'].values"
   ]
  },
  {
   "cell_type": "code",
   "execution_count": 78,
   "id": "95ce51d3-f900-47ce-a896-a3ac951e2a28",
   "metadata": {},
   "outputs": [],
   "source": [
    "X_train, X_test, y_train, y_test = train_test_split(X, y, test_size=0.4, random_state=101)"
   ]
  },
  {
   "cell_type": "markdown",
   "id": "d02043f2-7da5-46e4-9b42-d8a099d0059b",
   "metadata": {},
   "source": [
    "Now using minmax scaler ot normalize the feature data X_train, and X_test"
   ]
  },
  {
   "cell_type": "code",
   "execution_count": 79,
   "id": "49fab8e9-1be6-4b55-8bfd-267bfe4f212c",
   "metadata": {},
   "outputs": [],
   "source": [
    "from sklearn.preprocessing import MinMaxScaler"
   ]
  },
  {
   "cell_type": "code",
   "execution_count": 80,
   "id": "b87c66c2-3b67-44df-8e38-7a5ae0e60d51",
   "metadata": {},
   "outputs": [],
   "source": [
    "scaler = MinMaxScaler()"
   ]
  },
  {
   "cell_type": "code",
   "execution_count": 81,
   "id": "fc66db88-3dc6-4e89-9dbc-9cd92b75f21a",
   "metadata": {},
   "outputs": [],
   "source": [
    "X_train = scaler.fit_transform(X_train)\n",
    "X_test = scaler.transform(X_test)"
   ]
  },
  {
   "cell_type": "markdown",
   "id": "70008a38-460d-466e-9da9-0e94e413e528",
   "metadata": {},
   "source": [
    "Now creating model for Personal Loan Acceptance Prediction"
   ]
  },
  {
   "cell_type": "code",
   "execution_count": 82,
   "id": "58241d05-d3e7-4e7a-a226-3416a8d411e5",
   "metadata": {},
   "outputs": [],
   "source": [
    "import tensorflow as tf\n",
    "from tensorflow.keras.models import Sequential\n",
    "from tensorflow.keras.layers import Dense,Dropout"
   ]
  },
  {
   "cell_type": "markdown",
   "id": "ff26dd9d-5e5a-4362-8dbf-b80caa6d72d3",
   "metadata": {},
   "source": [
    "#Now building a sequential model to trained on the data"
   ]
  },
  {
   "cell_type": "code",
   "execution_count": 83,
   "id": "2a7da102-3878-435a-af68-22eb1793906d",
   "metadata": {},
   "outputs": [
    {
     "data": {
      "text/plain": [
       "(2996, 18)"
      ]
     },
     "execution_count": 83,
     "metadata": {},
     "output_type": "execute_result"
    }
   ],
   "source": [
    "X_train.shape"
   ]
  },
  {
   "cell_type": "code",
   "execution_count": 84,
   "id": "5f6edcb6-d830-4f41-a189-30c5e6694e85",
   "metadata": {},
   "outputs": [],
   "source": [
    "model = Sequential()\n",
    "\n",
    "model.add(Dense(18,activation='relu'))\n",
    "model.add(Dropout(0.2))\n",
    "\n",
    "model.add(Dense(15,activation='relu'))\n",
    "model.add(Dropout(0.2))\n",
    "\n",
    "model.add(Dense(13,activation='relu'))\n",
    "model.add(Dropout(0.2))\n",
    "\n",
    "model.add(Dense(9,activation='relu'))\n",
    "model.add(Dropout(0.2))\n",
    "\n",
    "model.add(Dense(units=1,activation='sigmoid'))\n",
    "\n",
    "model.compile(loss='binary_crossentropy',optimizer='adam')"
   ]
  },
  {
   "cell_type": "markdown",
   "id": "18cf3a0d-5ec5-420d-9ce7-8fa03fd309c1",
   "metadata": {},
   "source": [
    "Now fitting the model in our taining dataset"
   ]
  },
  {
   "cell_type": "code",
   "execution_count": 85,
   "id": "a3656664-7a7b-4af0-91c3-353ca1fbbd59",
   "metadata": {},
   "outputs": [
    {
     "name": "stdout",
     "output_type": "stream",
     "text": [
      "Epoch 1/25\n",
      "\u001b[1m20/20\u001b[0m \u001b[32m━━━━━━━━━━━━━━━━━━━━\u001b[0m\u001b[37m\u001b[0m \u001b[1m7s\u001b[0m 35ms/step - loss: 0.6284 - val_loss: 0.5372\n",
      "Epoch 2/25\n",
      "\u001b[1m20/20\u001b[0m \u001b[32m━━━━━━━━━━━━━━━━━━━━\u001b[0m\u001b[37m\u001b[0m \u001b[1m0s\u001b[0m 11ms/step - loss: 0.5031 - val_loss: 0.3904\n",
      "Epoch 3/25\n",
      "\u001b[1m20/20\u001b[0m \u001b[32m━━━━━━━━━━━━━━━━━━━━\u001b[0m\u001b[37m\u001b[0m \u001b[1m0s\u001b[0m 12ms/step - loss: 0.3888 - val_loss: 0.3504\n",
      "Epoch 4/25\n",
      "\u001b[1m20/20\u001b[0m \u001b[32m━━━━━━━━━━━━━━━━━━━━\u001b[0m\u001b[37m\u001b[0m \u001b[1m0s\u001b[0m 12ms/step - loss: 0.3518 - val_loss: 0.3380\n",
      "Epoch 5/25\n",
      "\u001b[1m20/20\u001b[0m \u001b[32m━━━━━━━━━━━━━━━━━━━━\u001b[0m\u001b[37m\u001b[0m \u001b[1m0s\u001b[0m 12ms/step - loss: 0.3462 - val_loss: 0.3266\n",
      "Epoch 6/25\n",
      "\u001b[1m20/20\u001b[0m \u001b[32m━━━━━━━━━━━━━━━━━━━━\u001b[0m\u001b[37m\u001b[0m \u001b[1m0s\u001b[0m 11ms/step - loss: 0.3474 - val_loss: 0.3164\n",
      "Epoch 7/25\n",
      "\u001b[1m20/20\u001b[0m \u001b[32m━━━━━━━━━━━━━━━━━━━━\u001b[0m\u001b[37m\u001b[0m \u001b[1m0s\u001b[0m 11ms/step - loss: 0.3370 - val_loss: 0.3070\n",
      "Epoch 8/25\n",
      "\u001b[1m20/20\u001b[0m \u001b[32m━━━━━━━━━━━━━━━━━━━━\u001b[0m\u001b[37m\u001b[0m \u001b[1m0s\u001b[0m 11ms/step - loss: 0.3123 - val_loss: 0.2978\n",
      "Epoch 9/25\n",
      "\u001b[1m20/20\u001b[0m \u001b[32m━━━━━━━━━━━━━━━━━━━━\u001b[0m\u001b[37m\u001b[0m \u001b[1m0s\u001b[0m 11ms/step - loss: 0.3084 - val_loss: 0.2867\n",
      "Epoch 10/25\n",
      "\u001b[1m20/20\u001b[0m \u001b[32m━━━━━━━━━━━━━━━━━━━━\u001b[0m\u001b[37m\u001b[0m \u001b[1m0s\u001b[0m 11ms/step - loss: 0.2604 - val_loss: 0.2750\n",
      "Epoch 11/25\n",
      "\u001b[1m20/20\u001b[0m \u001b[32m━━━━━━━━━━━━━━━━━━━━\u001b[0m\u001b[37m\u001b[0m \u001b[1m0s\u001b[0m 10ms/step - loss: 0.2840 - val_loss: 0.2637\n",
      "Epoch 12/25\n",
      "\u001b[1m20/20\u001b[0m \u001b[32m━━━━━━━━━━━━━━━━━━━━\u001b[0m\u001b[37m\u001b[0m \u001b[1m0s\u001b[0m 14ms/step - loss: 0.2802 - val_loss: 0.2535\n",
      "Epoch 13/25\n",
      "\u001b[1m20/20\u001b[0m \u001b[32m━━━━━━━━━━━━━━━━━━━━\u001b[0m\u001b[37m\u001b[0m \u001b[1m0s\u001b[0m 12ms/step - loss: 0.2538 - val_loss: 0.2439\n",
      "Epoch 14/25\n",
      "\u001b[1m20/20\u001b[0m \u001b[32m━━━━━━━━━━━━━━━━━━━━\u001b[0m\u001b[37m\u001b[0m \u001b[1m0s\u001b[0m 11ms/step - loss: 0.2647 - val_loss: 0.2352\n",
      "Epoch 15/25\n",
      "\u001b[1m20/20\u001b[0m \u001b[32m━━━━━━━━━━━━━━━━━━━━\u001b[0m\u001b[37m\u001b[0m \u001b[1m0s\u001b[0m 11ms/step - loss: 0.2612 - val_loss: 0.2290\n",
      "Epoch 16/25\n",
      "\u001b[1m20/20\u001b[0m \u001b[32m━━━━━━━━━━━━━━━━━━━━\u001b[0m\u001b[37m\u001b[0m \u001b[1m0s\u001b[0m 11ms/step - loss: 0.2467 - val_loss: 0.2233\n",
      "Epoch 17/25\n",
      "\u001b[1m20/20\u001b[0m \u001b[32m━━━━━━━━━━━━━━━━━━━━\u001b[0m\u001b[37m\u001b[0m \u001b[1m0s\u001b[0m 11ms/step - loss: 0.2436 - val_loss: 0.2174\n",
      "Epoch 18/25\n",
      "\u001b[1m20/20\u001b[0m \u001b[32m━━━━━━━━━━━━━━━━━━━━\u001b[0m\u001b[37m\u001b[0m \u001b[1m0s\u001b[0m 11ms/step - loss: 0.2334 - val_loss: 0.2127\n",
      "Epoch 19/25\n",
      "\u001b[1m20/20\u001b[0m \u001b[32m━━━━━━━━━━━━━━━━━━━━\u001b[0m\u001b[37m\u001b[0m \u001b[1m0s\u001b[0m 11ms/step - loss: 0.2275 - val_loss: 0.2081\n",
      "Epoch 20/25\n",
      "\u001b[1m20/20\u001b[0m \u001b[32m━━━━━━━━━━━━━━━━━━━━\u001b[0m\u001b[37m\u001b[0m \u001b[1m0s\u001b[0m 11ms/step - loss: 0.2322 - val_loss: 0.2042\n",
      "Epoch 21/25\n",
      "\u001b[1m20/20\u001b[0m \u001b[32m━━━━━━━━━━━━━━━━━━━━\u001b[0m\u001b[37m\u001b[0m \u001b[1m0s\u001b[0m 12ms/step - loss: 0.2216 - val_loss: 0.2013\n",
      "Epoch 22/25\n",
      "\u001b[1m20/20\u001b[0m \u001b[32m━━━━━━━━━━━━━━━━━━━━\u001b[0m\u001b[37m\u001b[0m \u001b[1m0s\u001b[0m 10ms/step - loss: 0.2197 - val_loss: 0.1978\n",
      "Epoch 23/25\n",
      "\u001b[1m20/20\u001b[0m \u001b[32m━━━━━━━━━━━━━━━━━━━━\u001b[0m\u001b[37m\u001b[0m \u001b[1m0s\u001b[0m 11ms/step - loss: 0.1984 - val_loss: 0.1944\n",
      "Epoch 24/25\n",
      "\u001b[1m20/20\u001b[0m \u001b[32m━━━━━━━━━━━━━━━━━━━━\u001b[0m\u001b[37m\u001b[0m \u001b[1m0s\u001b[0m 11ms/step - loss: 0.2130 - val_loss: 0.1921\n",
      "Epoch 25/25\n",
      "\u001b[1m20/20\u001b[0m \u001b[32m━━━━━━━━━━━━━━━━━━━━\u001b[0m\u001b[37m\u001b[0m \u001b[1m0s\u001b[0m 10ms/step - loss: 0.2015 - val_loss: 0.1901\n"
     ]
    },
    {
     "data": {
      "text/plain": [
       "<keras.src.callbacks.history.History at 0x26c17ada9f0>"
      ]
     },
     "execution_count": 85,
     "metadata": {},
     "output_type": "execute_result"
    }
   ],
   "source": [
    "model.fit(x=X_train,y=y_train,epochs=25,batch_size=150,validation_data=(X_test,y_test))"
   ]
  },
  {
   "cell_type": "markdown",
   "id": "f59584f2-6a6f-407e-b1fb-3f4e6669feb9",
   "metadata": {},
   "source": [
    "Now saving the model"
   ]
  },
  {
   "cell_type": "code",
   "execution_count": 86,
   "id": "4c801d47-0d21-4a15-9145-a47d941807bc",
   "metadata": {},
   "outputs": [],
   "source": [
    "from tensorflow.keras.models import load_model"
   ]
  },
  {
   "cell_type": "code",
   "execution_count": 88,
   "id": "21fbb751-47d8-44df-a2ca-60769c0c6c42",
   "metadata": {},
   "outputs": [
    {
     "name": "stderr",
     "output_type": "stream",
     "text": [
      "WARNING:absl:You are saving your model as an HDF5 file via `model.save()` or `keras.saving.save_model(model)`. This file format is considered legacy. We recommend using instead the native Keras format, e.g. `model.save('my_model.keras')` or `keras.saving.save_model(model, 'my_model.keras')`. \n"
     ]
    }
   ],
   "source": [
    "#model.save('Personal_loanAcceptance_prediction_model.h5')"
   ]
  },
  {
   "cell_type": "code",
   "execution_count": 89,
   "id": "8f684501-8868-4217-930f-02d9bfb0d532",
   "metadata": {},
   "outputs": [
    {
     "data": {
      "text/plain": [
       "{'loss': [0.6037366390228271,\n",
       "  0.4696769714355469,\n",
       "  0.3922603726387024,\n",
       "  0.3622819781303406,\n",
       "  0.35239332914352417,\n",
       "  0.34057918190956116,\n",
       "  0.3287428021430969,\n",
       "  0.3172961473464966,\n",
       "  0.30612674355506897,\n",
       "  0.2961617410182953,\n",
       "  0.285849392414093,\n",
       "  0.27222493290901184,\n",
       "  0.26299983263015747,\n",
       "  0.2577158212661743,\n",
       "  0.25338974595069885,\n",
       "  0.2501369118690491,\n",
       "  0.24124781787395477,\n",
       "  0.2343894988298416,\n",
       "  0.22742481529712677,\n",
       "  0.23077131807804108,\n",
       "  0.22495903074741364,\n",
       "  0.21501438319683075,\n",
       "  0.2136637568473816,\n",
       "  0.21569186449050903,\n",
       "  0.216047465801239],\n",
       " 'val_loss': [0.5372477173805237,\n",
       "  0.3903544843196869,\n",
       "  0.3503626585006714,\n",
       "  0.33802542090415955,\n",
       "  0.3266488015651703,\n",
       "  0.31642577052116394,\n",
       "  0.30704137682914734,\n",
       "  0.2978452742099762,\n",
       "  0.28672415018081665,\n",
       "  0.27496466040611267,\n",
       "  0.26373380422592163,\n",
       "  0.2535110116004944,\n",
       "  0.2439381331205368,\n",
       "  0.23517419397830963,\n",
       "  0.22898687422275543,\n",
       "  0.22330324351787567,\n",
       "  0.21738630533218384,\n",
       "  0.21267516911029816,\n",
       "  0.20814445614814758,\n",
       "  0.2042178064584732,\n",
       "  0.20133669674396515,\n",
       "  0.19782325625419617,\n",
       "  0.19443491101264954,\n",
       "  0.1921452432870865,\n",
       "  0.19009171426296234]}"
      ]
     },
     "execution_count": 89,
     "metadata": {},
     "output_type": "execute_result"
    }
   ],
   "source": [
    "model.history.history"
   ]
  },
  {
   "cell_type": "code",
   "execution_count": 90,
   "id": "e502682e-bae0-475d-9a53-f7964f32ee59",
   "metadata": {},
   "outputs": [],
   "source": [
    "# Now converting losses to data frame\n",
    "losses = pd.DataFrame(model.history.history)"
   ]
  },
  {
   "cell_type": "code",
   "execution_count": 91,
   "id": "55b2f947-6150-424b-9e66-fb9ba65f7c7c",
   "metadata": {},
   "outputs": [
    {
     "data": {
      "text/html": [
       "<div>\n",
       "<style scoped>\n",
       "    .dataframe tbody tr th:only-of-type {\n",
       "        vertical-align: middle;\n",
       "    }\n",
       "\n",
       "    .dataframe tbody tr th {\n",
       "        vertical-align: top;\n",
       "    }\n",
       "\n",
       "    .dataframe thead th {\n",
       "        text-align: right;\n",
       "    }\n",
       "</style>\n",
       "<table border=\"1\" class=\"dataframe\">\n",
       "  <thead>\n",
       "    <tr style=\"text-align: right;\">\n",
       "      <th></th>\n",
       "      <th>loss</th>\n",
       "      <th>val_loss</th>\n",
       "    </tr>\n",
       "  </thead>\n",
       "  <tbody>\n",
       "    <tr>\n",
       "      <th>0</th>\n",
       "      <td>0.603737</td>\n",
       "      <td>0.537248</td>\n",
       "    </tr>\n",
       "    <tr>\n",
       "      <th>1</th>\n",
       "      <td>0.469677</td>\n",
       "      <td>0.390354</td>\n",
       "    </tr>\n",
       "    <tr>\n",
       "      <th>2</th>\n",
       "      <td>0.392260</td>\n",
       "      <td>0.350363</td>\n",
       "    </tr>\n",
       "    <tr>\n",
       "      <th>3</th>\n",
       "      <td>0.362282</td>\n",
       "      <td>0.338025</td>\n",
       "    </tr>\n",
       "    <tr>\n",
       "      <th>4</th>\n",
       "      <td>0.352393</td>\n",
       "      <td>0.326649</td>\n",
       "    </tr>\n",
       "  </tbody>\n",
       "</table>\n",
       "</div>"
      ],
      "text/plain": [
       "       loss  val_loss\n",
       "0  0.603737  0.537248\n",
       "1  0.469677  0.390354\n",
       "2  0.392260  0.350363\n",
       "3  0.362282  0.338025\n",
       "4  0.352393  0.326649"
      ]
     },
     "execution_count": 91,
     "metadata": {},
     "output_type": "execute_result"
    }
   ],
   "source": [
    "losses.head()"
   ]
  },
  {
   "cell_type": "code",
   "execution_count": 92,
   "id": "79f781ab-f38d-4917-a2f5-83a1dac84465",
   "metadata": {},
   "outputs": [
    {
     "data": {
      "text/plain": [
       "<Axes: >"
      ]
     },
     "execution_count": 92,
     "metadata": {},
     "output_type": "execute_result"
    },
    {
     "data": {
      "image/png": "[encoded data removed]",
      "text/plain": [
       "<Figure size 640x480 with 1 Axes>"
      ]
     },
     "metadata": {},
     "output_type": "display_data"
    }
   ],
   "source": [
    "losses.plot()"
   ]
  },
  {
   "cell_type": "markdown",
   "id": "978541e3-8fa6-455b-a97a-9b811b0892e0",
   "metadata": {},
   "source": [
    "It looks like our training loss and validation loss are both decreasing"
   ]
  },
  {
   "cell_type": "markdown",
   "id": "2ced1b81-b6e3-42e2-a06c-e73a9bc4cfde",
   "metadata": {},
   "source": [
    "Now creating prediction for X_test data and calculating classification_report and confusion_matrix"
   ]
  },
  {
   "cell_type": "code",
   "execution_count": 93,
   "id": "044c0cea-d440-4c4a-a361-5af7809c63e0",
   "metadata": {},
   "outputs": [],
   "source": [
    "from sklearn.metrics import classification_report,confusion_matrix"
   ]
  },
  {
   "cell_type": "markdown",
   "id": "c94a86ef-b63a-4994-ac89-b6dff6d78576",
   "metadata": {},
   "source": [
    "Here, predicting on X_test data and \n",
    "if the predicted value greater than 0.5 it is considered positive prediction \n",
    "Otherwise negative prediction\n",
    "and converting obtained boolean array from above steps into integer value \n",
    "i.e 0: False, 1:True"
   ]
  },
  {
   "cell_type": "code",
   "execution_count": 94,
   "id": "ff1a7229-bb11-484c-94c4-4562d4b8a0ab",
   "metadata": {},
   "outputs": [
    {
     "name": "stdout",
     "output_type": "stream",
     "text": [
      "\u001b[1m63/63\u001b[0m \u001b[32m━━━━━━━━━━━━━━━━━━━━\u001b[0m\u001b[37m\u001b[0m \u001b[1m1s\u001b[0m 5ms/step\n"
     ]
    }
   ],
   "source": [
    "predictions = (model.predict(X_test) > 0.5).astype(\"int32\")"
   ]
  },
  {
   "cell_type": "code",
   "execution_count": 95,
   "id": "ce88ca9c-90e3-47ac-b906-fee8da51b1e4",
   "metadata": {},
   "outputs": [
    {
     "name": "stdout",
     "output_type": "stream",
     "text": [
      "              precision    recall  f1-score   support\n",
      "\n",
      "           0       0.90      1.00      0.95      1795\n",
      "           1       0.00      0.00      0.00       203\n",
      "\n",
      "    accuracy                           0.90      1998\n",
      "   macro avg       0.45      0.50      0.47      1998\n",
      "weighted avg       0.81      0.90      0.85      1998\n",
      "\n"
     ]
    },
    {
     "name": "stderr",
     "output_type": "stream",
     "text": [
      "C:\\Users\\User\\miniconda3\\Lib\\site-packages\\sklearn\\metrics\\_classification.py:1509: UndefinedMetricWarning: Precision is ill-defined and being set to 0.0 in labels with no predicted samples. Use `zero_division` parameter to control this behavior.\n",
      "  _warn_prf(average, modifier, f\"{metric.capitalize()} is\", len(result))\n",
      "C:\\Users\\User\\miniconda3\\Lib\\site-packages\\sklearn\\metrics\\_classification.py:1509: UndefinedMetricWarning: Precision is ill-defined and being set to 0.0 in labels with no predicted samples. Use `zero_division` parameter to control this behavior.\n",
      "  _warn_prf(average, modifier, f\"{metric.capitalize()} is\", len(result))\n",
      "C:\\Users\\User\\miniconda3\\Lib\\site-packages\\sklearn\\metrics\\_classification.py:1509: UndefinedMetricWarning: Precision is ill-defined and being set to 0.0 in labels with no predicted samples. Use `zero_division` parameter to control this behavior.\n",
      "  _warn_prf(average, modifier, f\"{metric.capitalize()} is\", len(result))\n"
     ]
    }
   ],
   "source": [
    "print(classification_report(y_test,predictions))"
   ]
  },
  {
   "cell_type": "markdown",
   "id": "c2082473-70e3-4b84-af56-a15c52974159",
   "metadata": {},
   "source": [
    "model have accuracy 90%"
   ]
  },
  {
   "cell_type": "code",
   "execution_count": 96,
   "id": "77663dc6-10a4-4810-9a98-2d913dbc1a71",
   "metadata": {},
   "outputs": [
    {
     "data": {
      "text/plain": [
       "array([[1795,    0],\n",
       "       [ 203,    0]], dtype=int64)"
      ]
     },
     "execution_count": 96,
     "metadata": {},
     "output_type": "execute_result"
    }
   ],
   "source": [
    "confusion_matrix(y_test,predictions)"
   ]
  },
  {
   "cell_type": "markdown",
   "id": "6ed32510-0690-45a4-82a2-ebc2cc799e66",
   "metadata": {},
   "source": [
    "True Positive (TP): 1795 \n",
    "True Negative(NP):203\n",
    "False Positive (FP):0\n",
    "False Negative(FN):0"
   ]
  },
  {
   "cell_type": "code",
   "execution_count": 99,
   "id": "05895cd8-25a2-4abb-adad-1e3b50781754",
   "metadata": {},
   "outputs": [],
   "source": [
    "import re"
   ]
  },
  {
   "cell_type": "code",
   "execution_count": 109,
   "id": "44ee364c-2cdf-45a3-b7ce-3c0d500dca3a",
   "metadata": {},
   "outputs": [
    {
     "name": "stdin",
     "output_type": "stream",
     "text": [
      "Bot: I can help with that. Can you provide me some information? Let's start with your age.\n",
      "You:  23\n",
      "Bot: Got it. How many years of experience do you have?\n",
      "You:  1\n",
      "Bot: Great! What's your annual income (in thousands)?\n",
      "You:  20\n",
      "Bot: Thanks! How many family members do you have?\n",
      "You:  5\n",
      "Bot: What is your average monthly spending with the credit card (in thousands)?\n",
      "You:  15\n",
      "Bot: What's your education level (1: bachelor's, 2: master's, 3: advanced/professional degree)?\n",
      "You:  1\n",
      "Bot: Do you have a mortgage? If yes, what is the value (in thousands)? If none, type 0.\n",
      "You:  0\n",
      "Bot: Do you have a securities account with the bank? (yes/no)\n",
      "You:  no\n",
      "Bot: Do you have a certificate of deposit (CD) account with the bank? (yes/no)\n",
      "You:  no\n",
      "Bot: Do you use internet banking facilities? (yes/no)\n",
      "You:  yes\n",
      "Bot: Do you use a credit card issued by the bank? (yes/no)\n",
      "You:  no\n",
      "Bot: Type your gender 'M' for male, 'F' for female and 'O' for other\n",
      "You:  f\n",
      "Bot: Type your Home Ownership Status: Home Owner, Rent, Home Mortgage or other.\n",
      "You:  rent\n"
     ]
    },
    {
     "name": "stdout",
     "output_type": "stream",
     "text": [
      "\u001b[1m1/1\u001b[0m \u001b[32m━━━━━━━━━━━━━━━━━━━━\u001b[0m\u001b[37m\u001b[0m \u001b[1m0s\u001b[0m 30ms/step\n",
      "Bot: Loan Rejected\n"
     ]
    }
   ],
   "source": [
    "pairs = [\n",
    "    [\"start\", [\"I can help with that. Can you provide me some information? Let's start with your age.\", \"age\"]],\n",
    "    [\"age\", [\"Got it. How many years of experience do you have?\", \"experience\"]],\n",
    "    [\"experience\", [\"Great! What's your annual income (in thousands)?\", \"income\"]],\n",
    "    [\"income\", [\"Thanks! How many family members do you have?\", \"family\"]],\n",
    "    [\"family\", [\"What is your average monthly spending with the credit card (in thousands)?\", \"ccavg\"]],\n",
    "    [\"ccavg\", [\"What's your education level (1: bachelor's, 2: master's, 3: advanced/professional degree)?\", \"education\"]],\n",
    "    [\"education\", [\"Do you have a mortgage? If yes, what is the value (in thousands)? If none, type 0.\", \"mortgage\"]],\n",
    "    [\"mortgage\", [\"Do you have a securities account with the bank? (yes/no)\", \"securities\"]],\n",
    "    [\"securities\", [\"Do you have a certificate of deposit (CD) account with the bank? (yes/no)\", \"cd\"]],\n",
    "    [\"cd\", [\"Do you use internet banking facilities? (yes/no)\", \"online\"]],\n",
    "    [\"online\", [\"Do you use a credit card issued by the bank? (yes/no)\", \"creditcard\"]],\n",
    "    [\"creditcard\", [\"Type your gender 'M' for male, 'F' for female and 'O' for other\", \"gender\"]],\n",
    "    [\"gender\", [\"Type your Home Ownership Status: Home Owner, Rent, Home Mortgage or other.\", \"home_ownership\"]],\n",
    "    [\"home_ownership\", [\"Thanks for the information. Let me process your loan acceptance prediction.\"]]\n",
    "]\n",
    "\n",
    "# Dictionary to store user responses\n",
    "responses = {}\n",
    "\n",
    "def conversation_handler(prompt, key):\n",
    "    user_input = input(f\"Bot: {prompt}\\nYou: \").strip()\n",
    "    if key in [\"securities\", \"cd\", \"online\", \"creditcard\"]:\n",
    "        responses[key] = 1 if user_input.lower() == 'yes' else 0\n",
    "    else:\n",
    "        responses[key] = user_input\n",
    "    return key\n",
    "\n",
    "def get_prediction(features):\n",
    "    prediction = model.predict(np.array([features]))\n",
    "    return 'Loan Accepted' if prediction[0][0] > 0.5 else 'Loan Rejected'\n",
    "\n",
    "continue_chat = True  # Flag to continue the conversation\n",
    "\n",
    "# Start conversation\n",
    "step = \"start\"\n",
    "while continue_chat:\n",
    "    for pair in pairs:\n",
    "        if step == pair[0]:\n",
    "            key = conversation_handler(pair[1][0], pair[1][1])\n",
    "            if key == 'home_ownership':\n",
    "                # Gather features for prediction\n",
    "                try:\n",
    "                    age = int(responses.get('age', 0))\n",
    "                    experience = int(responses.get('experience', 0))\n",
    "                    income = int(responses.get('income', 0))\n",
    "                    family = int(responses.get('family', 0))\n",
    "                    ccAvg = float(responses.get('ccavg', 0))\n",
    "                    education = int(responses.get('education', 0))\n",
    "                    mortgage = int(responses.get('mortgage', 0))\n",
    "                    securities = responses.get('securities', 0)\n",
    "                    cd = responses.get('cd', 0)\n",
    "                    online = responses.get('online', 0)\n",
    "                    credit_card = responses.get('creditcard', 0)\n",
    "                    gender = responses.get('gender', 'O').upper()\n",
    "                    male = 1 if gender == 'M' else 0\n",
    "                    female = 1 if gender == 'F' else 0\n",
    "                    other_genders = 1 if gender == 'O' else 0\n",
    "                    home_ownership = responses.get('home_ownership', '').lower()\n",
    "                    home_mortgage = 1 if home_ownership == 'home mortgage' else 0\n",
    "                    home_owner = 1 if home_ownership == 'home owner' else 0\n",
    "                    rent = 1 if home_ownership == 'rent' else 0\n",
    "                    other_home_owner = 1 if home_ownership == 'other' else 0\n",
    "\n",
    "                    features = [\n",
    "                        age, experience, income, family, ccAvg, education, mortgage,\n",
    "                        securities, cd, online, credit_card,\n",
    "                        male, female, other_genders,\n",
    "                        home_mortgage, home_owner, other_home_owner, rent\n",
    "                    ]\n",
    "\n",
    "                    # Normalize features\n",
    "                    scaled_features = scaler.transform([features])\n",
    "                    result = get_prediction(scaled_features[0])\n",
    "                    print(\"Bot:\", result)\n",
    "                    continue_chat = False  # Exit the conversation loop after prediction\n",
    "\n",
    "                except Exception as e:\n",
    "                    print(\"Bot:\", f\"Error processing input: {e}\")\n",
    "                    continue_chat = False  # Exit the conversation loop on error\n",
    "            step = key\n",
    "            break\n",
    "\n",
    "        if not continue_chat:\n",
    "            break"
   ]
  },
  {
   "cell_type": "code",
   "execution_count": null,
   "id": "29977c0d-e583-4011-a16c-0f128b0b0901",
   "metadata": {},
   "outputs": [],
   "source": []
  }
 ],
 "metadata": {
  "kernelspec": {
   "display_name": "Python 3 (ipykernel)",
   "language": "python",
   "name": "python3"
  },
  "language_info": {
   "codemirror_mode": {
    "name": "ipython",
    "version": 3
   },
   "file_extension": ".py",
   "mimetype": "text/x-python",
   "name": "python",
   "nbconvert_exporter": "python",
   "pygments_lexer": "ipython3",
   "version": "3.12.2"
  }
 },
 "nbformat": 4,
 "nbformat_minor": 5
}
